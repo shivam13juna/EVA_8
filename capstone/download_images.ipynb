{
 "cells": [
  {
   "cell_type": "code",
   "execution_count": 1,
   "metadata": {},
   "outputs": [],
   "source": [
    "import pandas as pd\n",
    "import requests\n",
    "import os"
   ]
  },
  {
   "cell_type": "code",
   "execution_count": 2,
   "metadata": {},
   "outputs": [],
   "source": [
    "df = pd.read_parquet('part-00000-5b54c5d5-bbcf-484d-a2ce-0d6f73df1a36-c000.snappy.parquet')\n",
    "df.columns = [i.lower() for i in df.columns]"
   ]
  },
  {
   "cell_type": "code",
   "execution_count": null,
   "metadata": {},
   "outputs": [],
   "source": [
    "\n",
    "\n",
    "# Assuming your dataframe is named 'df' with columns 'url' and 'text'\n",
    "\n",
    "# Set the download directory where the images will be saved\n",
    "download_dir = \"image_dataset\"\n",
    "\n",
    "# Create the download directory if it doesn't exist\n",
    "if not os.path.exists(download_dir):\n",
    "    os.makedirs(download_dir)\n",
    "\n",
    "# Randomly sample 50,000 rows from the dataframe\n",
    "sample_df = df.sample(n=50000, random_state=42)\n",
    "\n",
    "# Iterate over the sampled dataframe rows\n",
    "for index, row in sample_df.iterrows():\n",
    "    \n",
    "    image_url = row['url']\n",
    "    prompt = row['text']\n",
    "    \n",
    "    # Generate the image name based on the prompt\n",
    "    image_name = prompt.replace(\" \", \"__\") + \".jpg\"\n",
    "    \n",
    "    # Download the image\n",
    "    response = requests.get(image_url)\n",
    "    \n",
    "    # Save the image\n",
    "    with open(os.path.join(download_dir, image_name), \"wb\") as file:\n",
    "        file.write(response.content)\n",
    "        \n",
    "    if index % 100 == 0:\n",
    "        print(f\"Downloaded image {index} of {len(sample_df)}\")\n",
    "\n",
    "print(\"Image download complete.\")\n"
   ]
  },
  {
   "attachments": {},
   "cell_type": "markdown",
   "metadata": {},
   "source": [
    "# Convert Canny"
   ]
  },
  {
   "cell_type": "code",
   "execution_count": 1,
   "metadata": {},
   "outputs": [
    {
     "name": "stdout",
     "output_type": "stream",
     "text": [
      "download_images.ipynb\n",
      "download_images.py\n",
      "\u001b[0m\u001b[01;34mimage_dataset\u001b[0m/\n",
      "part-00000-5b54c5d5-bbcf-484d-a2ce-0d6f73df1a36-c000.snappy.parquet\n"
     ]
    }
   ],
   "source": [
    "ls"
   ]
  },
  {
   "cell_type": "code",
   "execution_count": null,
   "metadata": {},
   "outputs": [],
   "source": []
  },
  {
   "cell_type": "code",
   "execution_count": 3,
   "metadata": {},
   "outputs": [
    {
     "name": "stderr",
     "output_type": "stream",
     "text": [
      "  0%|          | 7/75834 [00:00<37:16, 33.90image/s]"
     ]
    },
    {
     "name": "stdout",
     "output_type": "stream",
     "text": [
      "Canny image saved: canny_Sweet__fig__—__Stock__Photo.jpg\n",
      "Canny image saved: canny_Golfer__Jimmy__Demaret.jpg\n",
      "Canny image saved: canny_Пакет__Jitsie__Shopping__Bag.jpg\n",
      "Canny image saved: canny_Debut__-__Bronze__'Eclipse'__hand-embellished__evening__dress.jpg\n",
      "Canny image saved: canny_Solid__Baby__Pink__Cotton__Streachable__Leggings__-__Guster__Ve...jpg\n",
      "Canny image saved: canny_worker__bee__-__sanitation__worker__bumper__sticker.jpg\n",
      "Canny image saved: canny_Disney__-__Mickey__Mouse__Playground__Pals__4pc__Toddler__Bedding__Set.jpg\n",
      "Canny image saved: canny_August__1939.__Marion__County,__Oregon,__near__West__Stayton.__Children__in__large__private__bean__pickers'__camp.__The__pickers__came__from__many__states,__from__Oklahoma__to__North__Dakota..jpg\n",
      "Canny image saved: canny_Westley-Buttercup-in-The-Princess-Bride-movie-couples-19610638-1280-720.jpg\n",
      "Canny image saved: canny_Greeting__card__Best__wishes,__happy__new__year,__owl,__winter.jpg\n",
      "Canny image saved: canny_Corey__Dickerson__Men's__Baseball__T-Shirt__|__500__LEVEL.jpg\n",
      "Canny image saved: canny_Get__and__dwnload__fantasy-theme__muvi__trailer__«Dude,__Where's__My__Car?»__at__a__cheep__price__on__a__super__high__speed.__Leave__your__review__on__«Dude,__Where's__My__Car?»__movie__or__read__amazing__reviews__of__another__people..jpg\n",
      "Canny image saved: canny_CBD__Living__Gummies.__Nano__CBD__Gummies__to__help__with__anxiety,__stress,__and__pain..jpg\n",
      "Canny image saved: canny_Emerging__Sources__Citation__Index.jpg\n",
      "Canny image saved: canny_Drugs__acting__on__Autonomic__Nervous__System__Lecture__Notes.jpg\n",
      "Canny image saved: canny_5050__LED__Strip__Light__RGBW.jpg\n",
      "Canny image saved: canny_House__Minority__Leader__Pelosi__addresses__pro-Israel__lobby__conference__in__Washington.jpg\n",
      "Canny image saved: canny_Our__big-hearted__volunteers__(from__left__to__right):__Janet,__Lay__Chin,__Shang,__Linda,__Elsie,__Janie,__Gilbert,__Ning__Jer,__Teddy__and__Yang.jpg\n"
     ]
    },
    {
     "name": "stderr",
     "output_type": "stream",
     "text": [
      "  0%|          | 25/75834 [00:00<14:19, 88.24image/s]"
     ]
    },
    {
     "name": "stdout",
     "output_type": "stream",
     "text": [
      "Canny image saved: canny_red__passenger__car__driving__on__asphalt__road__in__curve__ways__of....jpg\n",
      "Canny image saved: canny_sport__equipment__concept__in__circle__vector__image.jpg\n",
      "Canny image saved: canny_Lace__Knitting__to__Go.jpg\n",
      "Canny image saved: canny_Baden__Grand__Slam__Practice__Leather__Baseballs__-__Dozen.jpg\n",
      "Canny image saved: canny_Annie__and__Snowball__and__the__Dress-up__Birthday__|__Cynthia__Rylant.jpg\n",
      "Canny image saved: canny_Leggiadro__Straight__Pants__Blue.jpg\n",
      "Canny image saved: canny_Chris-Mary.com.jpg\n",
      "Canny image saved: canny_Perfect__French__crêpes__recipe.jpg\n",
      "Canny image saved: canny_Super__Moshinco__-__womens-fashion__photo.jpg\n",
      "Canny image saved: canny_Ballerinas__Old__Pink__(Custom__Order).jpg\n",
      "Canny image saved: canny_G.I.__Joe__Collector's__Club__Revised__Hit__&__Run.jpg\n",
      "Canny image saved: canny_Abstract__Glowing__Sphere__Vector.__Big__Data__Sphere.__Vector__Cyber__Sphere__Structure__Representation.__Stock__photo__©__pikepicture.jpg\n",
      "Canny image saved: canny_Measurement__of__acidity.jpg\n",
      "Canny image saved: canny_Tommy__Bahama__Pearl__Solids__Pull__On__Swim__Skirt__TSW73451C.jpg\n",
      "Canny image saved: canny_Charcoal__Druzy__Earrings.jpg\n"
     ]
    },
    {
     "ename": "error",
     "evalue": "OpenCV(4.7.0) /io/opencv/modules/imgcodecs/src/loadsave.cpp:783: error: (-215:Assertion failed) !_img.empty() in function 'imwrite'\n",
     "output_type": "error",
     "traceback": [
      "\u001b[0;31m---------------------------------------------------------------------------\u001b[0m",
      "\u001b[0;31merror\u001b[0m                                     Traceback (most recent call last)",
      "Cell \u001b[0;32mIn[3], line 28\u001b[0m\n\u001b[1;32m     26\u001b[0m \u001b[39m# Save the Canny image to the output folder\u001b[39;00m\n\u001b[1;32m     27\u001b[0m output_path \u001b[39m=\u001b[39m os\u001b[39m.\u001b[39mpath\u001b[39m.\u001b[39mjoin(output_filename)\n\u001b[0;32m---> 28\u001b[0m cv2\u001b[39m.\u001b[39;49mimwrite(output_path, edges)\n\u001b[1;32m     30\u001b[0m \u001b[39mprint\u001b[39m(\u001b[39mf\u001b[39m\u001b[39m\"\u001b[39m\u001b[39mCanny image saved: \u001b[39m\u001b[39m{\u001b[39;00moutput_filename\u001b[39m}\u001b[39;00m\u001b[39m\"\u001b[39m)\n\u001b[1;32m     31\u001b[0m progress_bar\u001b[39m.\u001b[39mupdate(\u001b[39m1\u001b[39m)\n",
      "\u001b[0;31merror\u001b[0m: OpenCV(4.7.0) /io/opencv/modules/imgcodecs/src/loadsave.cpp:783: error: (-215:Assertion failed) !_img.empty() in function 'imwrite'\n"
     ]
    },
    {
     "name": "stderr",
     "output_type": "stream",
     "text": [
      "  0%|          | 33/75834 [00:19<14:19, 88.24image/s]"
     ]
    }
   ],
   "source": [
    "import os\n",
    "os.chdir('image_dataset')\n",
    "import cv2\n",
    "from tqdm import tqdm\n",
    "\n",
    "# Input and output folder paths\n",
    "input_folder = './'  # Specify the path to the folder containing the input images\n",
    "output_folder = './'  # Specify the path to the folder where the Canny images will be saved\n",
    "\n",
    "progress_bar = tqdm(total=len(os.listdir(input_folder)), unit=\"image\")\n",
    "\n",
    "\n",
    "# Iterate through the input folder\n",
    "for filename in os.listdir(input_folder):\n",
    "    if filename.endswith('.jpg') or filename.endswith('.png'):  # Adjust the file extensions as needed\n",
    "        # Read the image\n",
    "        image_path = os.path.join(input_folder, filename)\n",
    "        image = cv2.imread(image_path)\n",
    "\n",
    "        # Apply Canny edge detection\n",
    "        edges = cv2.Canny(image, 100, 200)  # Adjust the threshold values as needed\n",
    "\n",
    "        # Create the output filename with the \"canny_\" prefix\n",
    "        output_filename = 'canny_' + filename\n",
    "\n",
    "        # Save the Canny image to the output folder\n",
    "        output_path = os.path.join(output_filename)\n",
    "        cv2.imwrite(output_path, edges)\n",
    "\n",
    "        print(f\"Canny image saved: {output_filename}\")\n",
    "        progress_bar.update(1)\n",
    "\n",
    "# Close the progress bar\n",
    "progress_bar.close()\n",
    "\n"
   ]
  }
 ],
 "metadata": {
  "kernelspec": {
   "display_name": "cap",
   "language": "python",
   "name": "python3"
  },
  "language_info": {
   "codemirror_mode": {
    "name": "ipython",
    "version": 3
   },
   "file_extension": ".py",
   "mimetype": "text/x-python",
   "name": "python",
   "nbconvert_exporter": "python",
   "pygments_lexer": "ipython3",
   "version": "3.10.6"
  },
  "orig_nbformat": 4
 },
 "nbformat": 4,
 "nbformat_minor": 2
}
