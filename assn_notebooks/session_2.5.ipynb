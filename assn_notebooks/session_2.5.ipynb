{
 "cells": [
  {
   "cell_type": "markdown",
   "metadata": {},
   "source": [
    "# Importing Libraries"
   ]
  },
  {
   "cell_type": "code",
   "execution_count": 2,
   "metadata": {},
   "outputs": [
    {
     "ename": "FileNotFoundError",
     "evalue": "Project root directory not found. Indicators: ('.project-root', 'setup.cfg', 'setup.py', '.git', 'pyproject.toml')",
     "output_type": "error",
     "traceback": [
      "\u001b[0;31m---------------------------------------------------------------------------\u001b[0m",
      "\u001b[0;31mFileNotFoundError\u001b[0m                         Traceback (most recent call last)",
      "Cell \u001b[0;32mIn [2], line 4\u001b[0m\n\u001b[1;32m      1\u001b[0m \u001b[38;5;28;01mimport\u001b[39;00m \u001b[38;5;21;01msys\u001b[39;00m\n\u001b[1;32m      2\u001b[0m \u001b[38;5;28;01mimport\u001b[39;00m \u001b[38;5;21;01mpyrootutils\u001b[39;00m\n\u001b[0;32m----> 4\u001b[0m root \u001b[38;5;241m=\u001b[39m \u001b[43mpyrootutils\u001b[49m\u001b[38;5;241;43m.\u001b[39;49m\u001b[43msetup_root\u001b[49m\u001b[43m(\u001b[49m\u001b[43msys\u001b[49m\u001b[38;5;241;43m.\u001b[39;49m\u001b[43mpath\u001b[49m\u001b[43m[\u001b[49m\u001b[38;5;241;43m0\u001b[39;49m\u001b[43m]\u001b[49m\u001b[43m,\u001b[49m\u001b[43m \u001b[49m\u001b[43mpythonpath\u001b[49m\u001b[38;5;241;43m=\u001b[39;49m\u001b[38;5;28;43;01mTrue\u001b[39;49;00m\u001b[43m,\u001b[49m\u001b[43m \u001b[49m\u001b[43mcwd\u001b[49m\u001b[38;5;241;43m=\u001b[39;49m\u001b[38;5;28;43;01mTrue\u001b[39;49;00m\u001b[43m)\u001b[49m\n\u001b[1;32m      6\u001b[0m \u001b[38;5;28;01mimport\u001b[39;00m \u001b[38;5;21;01mtimm\u001b[39;00m\n\u001b[1;32m      7\u001b[0m \u001b[38;5;28;01mimport\u001b[39;00m \u001b[38;5;21;01mtorch\u001b[39;00m\n",
      "File \u001b[0;32m~/Documents/virtual_envs/mlo/lib/python3.10/site-packages/pyrootutils/pyrootutils.py:151\u001b[0m, in \u001b[0;36msetup_root\u001b[0;34m(search_from, indicator, project_root_env_var, dotenv, pythonpath, cwd)\u001b[0m\n\u001b[1;32m    118\u001b[0m \u001b[39mdef\u001b[39;00m \u001b[39msetup_root\u001b[39m(\n\u001b[1;32m    119\u001b[0m     search_from: Union[\u001b[39mstr\u001b[39m, Path],\n\u001b[1;32m    120\u001b[0m     indicator: Union[\u001b[39mstr\u001b[39m, Iterable[\u001b[39mstr\u001b[39m]] \u001b[39m=\u001b[39m (\n\u001b[0;32m   (...)\u001b[0m\n\u001b[1;32m    130\u001b[0m     cwd: \u001b[39mbool\u001b[39m \u001b[39m=\u001b[39m \u001b[39mFalse\u001b[39;00m,\n\u001b[1;32m    131\u001b[0m ) \u001b[39m-\u001b[39m\u001b[39m>\u001b[39m Path:\n\u001b[1;32m    132\u001b[0m     \u001b[39m\"\"\"Combines `get_root()` and `set_root()` into one method.\u001b[39;00m\n\u001b[1;32m    133\u001b[0m \n\u001b[1;32m    134\u001b[0m \u001b[39m    Recursively searches for files from the `indicators` list, starting from given path.\u001b[39;00m\n\u001b[0;32m   (...)\u001b[0m\n\u001b[1;32m    149\u001b[0m \u001b[39m        Path: Path to project root.\u001b[39;00m\n\u001b[1;32m    150\u001b[0m \u001b[39m    \"\"\"\u001b[39;00m\n\u001b[0;32m--> 151\u001b[0m     path \u001b[39m=\u001b[39m find_root(search_from, indicator)\n\u001b[1;32m    152\u001b[0m     set_root(\n\u001b[1;32m    153\u001b[0m         path\u001b[39m=\u001b[39mpath,\n\u001b[1;32m    154\u001b[0m         project_root_env_var\u001b[39m=\u001b[39mproject_root_env_var,\n\u001b[0;32m   (...)\u001b[0m\n\u001b[1;32m    157\u001b[0m         cwd\u001b[39m=\u001b[39mcwd,\n\u001b[1;32m    158\u001b[0m     )\n\u001b[1;32m    159\u001b[0m     \u001b[39mreturn\u001b[39;00m path\n",
      "File \u001b[0;32m~/Documents/virtual_envs/mlo/lib/python3.10/site-packages/pyrootutils/pyrootutils.py:73\u001b[0m, in \u001b[0;36mfind_root\u001b[0;34m(search_from, indicator)\u001b[0m\n\u001b[1;32m     70\u001b[0m path \u001b[39m=\u001b[39m _pyrootutils_recursive_search(search_from, indicator)\n\u001b[1;32m     72\u001b[0m \u001b[39mif\u001b[39;00m \u001b[39mnot\u001b[39;00m path \u001b[39mor\u001b[39;00m \u001b[39mnot\u001b[39;00m path\u001b[39m.\u001b[39mexists():\n\u001b[0;32m---> 73\u001b[0m     \u001b[39mraise\u001b[39;00m \u001b[39mFileNotFoundError\u001b[39;00m(\u001b[39mf\u001b[39m\u001b[39m\"\u001b[39m\u001b[39mProject root directory not found. Indicators: \u001b[39m\u001b[39m{\u001b[39;00mindicator\u001b[39m}\u001b[39;00m\u001b[39m\"\u001b[39m)\n\u001b[1;32m     75\u001b[0m \u001b[39mreturn\u001b[39;00m path\n",
      "\u001b[0;31mFileNotFoundError\u001b[0m: Project root directory not found. Indicators: ('.project-root', 'setup.cfg', 'setup.py', '.git', 'pyproject.toml')"
     ]
    }
   ],
   "source": [
    "import sys\n",
    "import pyrootutils\n",
    "\n",
    "root = pyrootutils.setup_root(sys.path[0], pythonpath=True, cwd=True)\n",
    "\n",
    "import timm\n",
    "import torch\n",
    "import shutil\n",
    "import numpy as np\n",
    "import torchvision\n",
    "import seaborn as sns\n",
    "import torch.nn as nn\n",
    "import albumentations as A\n",
    "import torch.optim as optim\n",
    "import pytorch_lightning as pl\n",
    "import matplotlib.pyplot as plt\n",
    "import torch.nn.functional as F\n",
    "import torchvision.transforms as transforms\n",
    "\n",
    "\n",
    "from PIL import Image\n",
    "from omegaconf import OmegaConf\n",
    "from torchvision import datasets\n",
    "from hydra import compose, initialize\n",
    "from torch import nn, optim, utils, Tensor\n",
    "from albumentations.pytorch import ToTensorV2\n",
    "from torch.utils.data import random_split, DataLoader, TensorDataset\n",
    "\n",
    "# import accuracy from torchmetrics\n",
    "from torchmetrics import Accuracy\n",
    "\n",
    "\n",
    "shutil.copy(\"configs/config.yaml\", \"notebooks/config.yaml\")\n",
    "with initialize(version_base=None, config_path=\"\"):\n",
    "    config = compose(config_name=\"config.yaml\")\n"
   ]
  },
  {
   "cell_type": "code",
   "execution_count": null,
   "metadata": {},
   "outputs": [],
   "source": []
  }
 ],
 "metadata": {
  "kernelspec": {
   "display_name": "Python 3.10.6 ('mlo')",
   "language": "python",
   "name": "python3"
  },
  "language_info": {
   "codemirror_mode": {
    "name": "ipython",
    "version": 3
   },
   "file_extension": ".py",
   "mimetype": "text/x-python",
   "name": "python",
   "nbconvert_exporter": "python",
   "pygments_lexer": "ipython3",
   "version": "3.10.6"
  },
  "orig_nbformat": 4,
  "vscode": {
   "interpreter": {
    "hash": "166496c61138a32d9d6f298a779727d389a647554eedcb433b9a55285638df27"
   }
  }
 },
 "nbformat": 4,
 "nbformat_minor": 2
}
