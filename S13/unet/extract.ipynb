{
 "cells": [
  {
   "cell_type": "code",
   "execution_count": 3,
   "metadata": {},
   "outputs": [],
   "source": [
    "import os\n",
    "import cv2\n",
    "import numpy as np\n",
    "import xml.etree.ElementTree as ET\n",
    "\n",
    "# Set the paths for the image and annotation folders\n",
    "image_folder = 'oxford-iiit-pet/images'\n",
    "annotation_folder = 'oxford-iiit-pet/annotations/xmls'\n",
    "output_folder = 'segmentation_maps'\n"
   ]
  },
  {
   "cell_type": "code",
   "execution_count": 4,
   "metadata": {},
   "outputs": [
    {
     "name": "stderr",
     "output_type": "stream",
     "text": [
      "Corrupt JPEG data: 240 extraneous bytes before marker 0xd9\n",
      "Corrupt JPEG data: premature end of data segment\n"
     ]
    }
   ],
   "source": [
    "import os\n",
    "import cv2\n",
    "import numpy as np\n",
    "import torch\n",
    "import torchvision.transforms as T\n",
    "from PIL import Image\n",
    "from torchvision import models\n",
    "\n",
    "def decode_segmap(image, source, nc=3):\n",
    "    label_colors = np.array([(0, 0, 0), (255, 0, 0), (0, 255, 0), (0, 0, 255)])\n",
    "    r = np.zeros_like(image).astype(np.uint8)\n",
    "    g = np.zeros_like(image).astype(np.uint8)\n",
    "    b = np.zeros_like(image).astype(np.uint8)\n",
    "\n",
    "    for l in range(0, nc):\n",
    "        idx = image == l\n",
    "        r[idx] = label_colors[l, 0]\n",
    "        g[idx] = label_colors[l, 1]\n",
    "        b[idx] = label_colors[l, 2]\n",
    "\n",
    "    rgb = np.stack([r, g, b], axis=2)\n",
    "    return rgb\n",
    "\n",
    "def segment(net, path):\n",
    "    img = Image.open(path)\n",
    "    trf = T.Compose([T.Resize(256), T.CenterCrop(224), T.ToTensor(), T.Normalize(mean=[0.485, 0.456, 0.406], std=[0.229, 0.224, 0.225])])\n",
    "    inp = trf(img).unsqueeze(0)\n",
    "    out = net(inp)['out']\n",
    "    om = torch.argmax(out.squeeze(), dim=0).detach().cpu().numpy()\n",
    "    return om\n",
    "\n",
    "dlab = models.segmentation.deeplabv3_resnet101(pretrained=True).eval()\n",
    "\n",
    "# Set the paths for the image and output folders\n",
    "image_folder = 'images'\n",
    "output_folder = 'segmentation_maps'\n",
    "\n",
    "# Create the output folder if it doesn't exist\n",
    "if not os.path.exists(output_folder):\n",
    "    os.makedirs(output_folder)\n",
    "\n",
    "# Iterate over image files in the image folder\n",
    "for image_file in os.listdir(image_folder):\n",
    "    # Check if the file is an image file\n",
    "    if image_file.endswith(('.png', '.jpg', '.jpeg')):\n",
    "        # Segment the image\n",
    "        image_path = os.path.join(image_folder, image_file)\n",
    "        segmap = segment(dlab, image_path)\n",
    "\n",
    "        # Create a tricolor segmentation map\n",
    "        segmap_color = decode_segmap(segmap)\n",
    "\n",
    "        # Save the segmentation map\n",
    "        mask_file = os.path.splitext(image_file)[0] + '_segmap.png'\n",
    "        cv2.imwrite(os.path.join(output_folder, mask_file), cv2.cvtColor(segmap_color, cv2.COLOR_RGB2BGR))\n"
   ]
  }
 ],
 "metadata": {
  "kernelspec": {
   "display_name": "cap",
   "language": "python",
   "name": "python3"
  },
  "language_info": {
   "codemirror_mode": {
    "name": "ipython",
    "version": 3
   },
   "file_extension": ".py",
   "mimetype": "text/x-python",
   "name": "python",
   "nbconvert_exporter": "python",
   "pygments_lexer": "ipython3",
   "version": "3.10.6"
  },
  "orig_nbformat": 4
 },
 "nbformat": 4,
 "nbformat_minor": 2
}
