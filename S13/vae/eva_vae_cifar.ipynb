{
  "cells": [
    {
      "cell_type": "code",
      "execution_count": 1,
      "metadata": {
        "id": "Ue4hW0MtyAIm"
      },
      "outputs": [
        {
          "name": "stdout",
          "output_type": "stream",
          "text": [
            "Requirement already satisfied: pytorch-lightning in /home/shivam13juna/Documents/virtual_envs/mlo/lib/python3.10/site-packages (1.1.8)\n",
            "Requirement already satisfied: torch>=1.3 in /home/shivam13juna/Documents/virtual_envs/mlo/lib/python3.10/site-packages (from pytorch-lightning) (1.11.0+cu113)\n",
            "Requirement already satisfied: numpy>=1.16.6 in /home/shivam13juna/Documents/virtual_envs/mlo/lib/python3.10/site-packages (from pytorch-lightning) (1.22.4)\n",
            "Requirement already satisfied: tensorboard>=2.2.0 in /home/shivam13juna/Documents/virtual_envs/mlo/lib/python3.10/site-packages (from pytorch-lightning) (2.10.1)\n",
            "Requirement already satisfied: tqdm>=4.41.0 in /home/shivam13juna/Documents/virtual_envs/mlo/lib/python3.10/site-packages (from pytorch-lightning) (4.64.1)\n",
            "Requirement already satisfied: future>=0.17.1 in /home/shivam13juna/Documents/virtual_envs/mlo/lib/python3.10/site-packages (from pytorch-lightning) (0.18.2)\n",
            "Requirement already satisfied: fsspec[http]>=0.8.1 in /home/shivam13juna/Documents/virtual_envs/mlo/lib/python3.10/site-packages (from pytorch-lightning) (2022.8.2)\n",
            "Requirement already satisfied: PyYAML!=5.4.*,>=5.1 in /home/shivam13juna/Documents/virtual_envs/mlo/lib/python3.10/site-packages (from pytorch-lightning) (6.0)\n",
            "Requirement already satisfied: requests in /home/shivam13juna/Documents/virtual_envs/mlo/lib/python3.10/site-packages (from fsspec[http]>=0.8.1->pytorch-lightning) (2.28.1)\n",
            "Requirement already satisfied: aiohttp!=4.0.0a0,!=4.0.0a1 in /home/shivam13juna/Documents/virtual_envs/mlo/lib/python3.10/site-packages (from fsspec[http]>=0.8.1->pytorch-lightning) (3.8.3)\n",
            "Requirement already satisfied: protobuf<3.20,>=3.9.2 in /home/shivam13juna/Documents/virtual_envs/mlo/lib/python3.10/site-packages (from tensorboard>=2.2.0->pytorch-lightning) (3.19.6)\n",
            "Requirement already satisfied: tensorboard-data-server<0.7.0,>=0.6.0 in /home/shivam13juna/Documents/virtual_envs/mlo/lib/python3.10/site-packages (from tensorboard>=2.2.0->pytorch-lightning) (0.6.1)\n",
            "Requirement already satisfied: werkzeug>=1.0.1 in /home/shivam13juna/Documents/virtual_envs/mlo/lib/python3.10/site-packages (from tensorboard>=2.2.0->pytorch-lightning) (2.2.2)\n",
            "Requirement already satisfied: markdown>=2.6.8 in /home/shivam13juna/Documents/virtual_envs/mlo/lib/python3.10/site-packages (from tensorboard>=2.2.0->pytorch-lightning) (3.4.1)\n",
            "Requirement already satisfied: setuptools>=41.0.0 in /home/shivam13juna/Documents/virtual_envs/mlo/lib/python3.10/site-packages (from tensorboard>=2.2.0->pytorch-lightning) (65.3.0)\n",
            "Requirement already satisfied: grpcio>=1.24.3 in /home/shivam13juna/Documents/virtual_envs/mlo/lib/python3.10/site-packages (from tensorboard>=2.2.0->pytorch-lightning) (1.50.0)\n",
            "Requirement already satisfied: tensorboard-plugin-wit>=1.6.0 in /home/shivam13juna/Documents/virtual_envs/mlo/lib/python3.10/site-packages (from tensorboard>=2.2.0->pytorch-lightning) (1.8.1)\n",
            "Requirement already satisfied: google-auth-oauthlib<0.5,>=0.4.1 in /home/shivam13juna/Documents/virtual_envs/mlo/lib/python3.10/site-packages (from tensorboard>=2.2.0->pytorch-lightning) (0.4.6)\n",
            "Requirement already satisfied: absl-py>=0.4 in /home/shivam13juna/Documents/virtual_envs/mlo/lib/python3.10/site-packages (from tensorboard>=2.2.0->pytorch-lightning) (1.3.0)\n",
            "Requirement already satisfied: google-auth<3,>=1.6.3 in /home/shivam13juna/Documents/virtual_envs/mlo/lib/python3.10/site-packages (from tensorboard>=2.2.0->pytorch-lightning) (2.13.0)\n",
            "Requirement already satisfied: wheel>=0.26 in /home/shivam13juna/Documents/virtual_envs/mlo/lib/python3.10/site-packages (from tensorboard>=2.2.0->pytorch-lightning) (0.37.1)\n",
            "Requirement already satisfied: typing-extensions in /home/shivam13juna/Documents/virtual_envs/mlo/lib/python3.10/site-packages (from torch>=1.3->pytorch-lightning) (4.4.0)\n",
            "Requirement already satisfied: frozenlist>=1.1.1 in /home/shivam13juna/Documents/virtual_envs/mlo/lib/python3.10/site-packages (from aiohttp!=4.0.0a0,!=4.0.0a1->fsspec[http]>=0.8.1->pytorch-lightning) (1.3.1)\n",
            "Requirement already satisfied: attrs>=17.3.0 in /home/shivam13juna/Documents/virtual_envs/mlo/lib/python3.10/site-packages (from aiohttp!=4.0.0a0,!=4.0.0a1->fsspec[http]>=0.8.1->pytorch-lightning) (22.1.0)\n",
            "Requirement already satisfied: yarl<2.0,>=1.0 in /home/shivam13juna/Documents/virtual_envs/mlo/lib/python3.10/site-packages (from aiohttp!=4.0.0a0,!=4.0.0a1->fsspec[http]>=0.8.1->pytorch-lightning) (1.8.1)\n",
            "Requirement already satisfied: async-timeout<5.0,>=4.0.0a3 in /home/shivam13juna/Documents/virtual_envs/mlo/lib/python3.10/site-packages (from aiohttp!=4.0.0a0,!=4.0.0a1->fsspec[http]>=0.8.1->pytorch-lightning) (4.0.2)\n",
            "Requirement already satisfied: aiosignal>=1.1.2 in /home/shivam13juna/Documents/virtual_envs/mlo/lib/python3.10/site-packages (from aiohttp!=4.0.0a0,!=4.0.0a1->fsspec[http]>=0.8.1->pytorch-lightning) (1.2.0)\n",
            "Requirement already satisfied: multidict<7.0,>=4.5 in /home/shivam13juna/Documents/virtual_envs/mlo/lib/python3.10/site-packages (from aiohttp!=4.0.0a0,!=4.0.0a1->fsspec[http]>=0.8.1->pytorch-lightning) (6.0.2)\n",
            "Requirement already satisfied: charset-normalizer<3.0,>=2.0 in /home/shivam13juna/Documents/virtual_envs/mlo/lib/python3.10/site-packages (from aiohttp!=4.0.0a0,!=4.0.0a1->fsspec[http]>=0.8.1->pytorch-lightning) (2.1.1)\n",
            "Requirement already satisfied: cachetools<6.0,>=2.0.0 in /home/shivam13juna/Documents/virtual_envs/mlo/lib/python3.10/site-packages (from google-auth<3,>=1.6.3->tensorboard>=2.2.0->pytorch-lightning) (5.2.0)\n",
            "Requirement already satisfied: rsa<5,>=3.1.4 in /home/shivam13juna/Documents/virtual_envs/mlo/lib/python3.10/site-packages (from google-auth<3,>=1.6.3->tensorboard>=2.2.0->pytorch-lightning) (4.9)\n",
            "Requirement already satisfied: six>=1.9.0 in /home/shivam13juna/Documents/virtual_envs/mlo/lib/python3.10/site-packages (from google-auth<3,>=1.6.3->tensorboard>=2.2.0->pytorch-lightning) (1.16.0)\n",
            "Requirement already satisfied: pyasn1-modules>=0.2.1 in /home/shivam13juna/Documents/virtual_envs/mlo/lib/python3.10/site-packages (from google-auth<3,>=1.6.3->tensorboard>=2.2.0->pytorch-lightning) (0.2.8)\n",
            "Requirement already satisfied: requests-oauthlib>=0.7.0 in /home/shivam13juna/Documents/virtual_envs/mlo/lib/python3.10/site-packages (from google-auth-oauthlib<0.5,>=0.4.1->tensorboard>=2.2.0->pytorch-lightning) (1.3.1)\n",
            "Requirement already satisfied: idna<4,>=2.5 in /home/shivam13juna/Documents/virtual_envs/mlo/lib/python3.10/site-packages (from requests->fsspec[http]>=0.8.1->pytorch-lightning) (3.4)\n",
            "Requirement already satisfied: certifi>=2017.4.17 in /home/shivam13juna/Documents/virtual_envs/mlo/lib/python3.10/site-packages (from requests->fsspec[http]>=0.8.1->pytorch-lightning) (2022.9.24)\n",
            "Requirement already satisfied: urllib3<1.27,>=1.21.1 in /home/shivam13juna/Documents/virtual_envs/mlo/lib/python3.10/site-packages (from requests->fsspec[http]>=0.8.1->pytorch-lightning) (1.26.12)\n",
            "Requirement already satisfied: MarkupSafe>=2.1.1 in /home/shivam13juna/Documents/virtual_envs/mlo/lib/python3.10/site-packages (from werkzeug>=1.0.1->tensorboard>=2.2.0->pytorch-lightning) (2.1.1)\n",
            "Requirement already satisfied: pyasn1<0.5.0,>=0.4.6 in /home/shivam13juna/Documents/virtual_envs/mlo/lib/python3.10/site-packages (from pyasn1-modules>=0.2.1->google-auth<3,>=1.6.3->tensorboard>=2.2.0->pytorch-lightning) (0.4.8)\n",
            "Requirement already satisfied: oauthlib>=3.0.0 in /home/shivam13juna/Documents/virtual_envs/mlo/lib/python3.10/site-packages (from requests-oauthlib>=0.7.0->google-auth-oauthlib<0.5,>=0.4.1->tensorboard>=2.2.0->pytorch-lightning) (3.2.2)\n",
            "\n",
            "\u001b[1m[\u001b[0m\u001b[34;49mnotice\u001b[0m\u001b[1;39;49m]\u001b[0m\u001b[39;49m A new release of pip available: \u001b[0m\u001b[31;49m22.2.2\u001b[0m\u001b[39;49m -> \u001b[0m\u001b[32;49m23.1.2\u001b[0m\n",
            "\u001b[1m[\u001b[0m\u001b[34;49mnotice\u001b[0m\u001b[1;39;49m]\u001b[0m\u001b[39;49m To update, run: \u001b[0m\u001b[32;49mpip install --upgrade pip\u001b[0m\n",
            "\u001b[31mERROR: Could not find a version that satisfies the requirement pytorch-lightning-bolts==0.2.5rc1 (from versions: 0.1.0, 0.1.1, 0.2.0, 0.2.1, 0.2.2, 0.2.3, 0.2.4, 0.2.5, 0.3.0, 0.3.1, 0.3.2, 0.3.2.post0, 0.3.2.post1)\u001b[0m\u001b[31m\n",
            "\u001b[0m\u001b[31mERROR: No matching distribution found for pytorch-lightning-bolts==0.2.5rc1\u001b[0m\u001b[31m\n",
            "\u001b[0m\n",
            "\u001b[1m[\u001b[0m\u001b[34;49mnotice\u001b[0m\u001b[1;39;49m]\u001b[0m\u001b[39;49m A new release of pip available: \u001b[0m\u001b[31;49m22.2.2\u001b[0m\u001b[39;49m -> \u001b[0m\u001b[32;49m23.1.2\u001b[0m\n",
            "\u001b[1m[\u001b[0m\u001b[34;49mnotice\u001b[0m\u001b[1;39;49m]\u001b[0m\u001b[39;49m To update, run: \u001b[0m\u001b[32;49mpip install --upgrade pip\u001b[0m\n"
          ]
        }
      ],
      "source": [
        "\n",
        "! pip install pytorch-lightning\n",
        "! pip install pytorch-lightning-bolts==0.2.5rc1"
      ]
    },
    {
      "cell_type": "markdown",
      "metadata": {
        "id": "qCH1jxMCyVgP"
      },
      "source": [
        "#### First 4 elements\n",
        "The main 4 elements of a VAE are:\n",
        "- encoder\n",
        "- decoder\n",
        "- mu\n",
        "- sigma\n",
        "\n",
        "mu, sigma are the parameters for the distributions in our formula.\n",
        "\n",
        "Note: in our notation we say $q(z|x)$ where we assume $q$ to be a neural network. However, q is a neural network that DOES NOT GENERATE z. Instead it generates parameters FOR a distribution OVER z."
      ]
    },
    {
      "cell_type": "code",
      "execution_count": 2,
      "metadata": {
        "id": "BOYE51Hnytie"
      },
      "outputs": [
        {
          "name": "stderr",
          "output_type": "stream",
          "text": [
            "/home/shivam13juna/Documents/virtual_envs/mlo/lib/python3.10/site-packages/tqdm/auto.py:22: TqdmWarning: IProgress not found. Please update jupyter and ipywidgets. See https://ipywidgets.readthedocs.io/en/stable/user_install.html\n",
            "  from .autonotebook import tqdm as notebook_tqdm\n",
            "/home/shivam13juna/Documents/virtual_envs/mlo/lib/python3.10/site-packages/pl_bolts/utils/warnings.py:30: UserWarning: You want to use `wandb` which is not installed yet, install it with `pip install wandb`.\n",
            "  stdout_func(\n"
          ]
        }
      ],
      "source": [
        "import pytorch_lightning as pl\n",
        "import torch\n",
        "from torch import nn\n",
        "from torch.nn import functional as F\n",
        "from pl_bolts.models.autoencoders.components import (\n",
        "    resnet18_decoder,\n",
        "    resnet18_encoder,\n",
        ")\n",
        "\n",
        "class VAE(pl.LightningModule):\n",
        "    def __init__(self, enc_out_dim=512, latent_dim=256, input_height=32):\n",
        "        super().__init__()\n",
        "\n",
        "        self.save_hyperparameters()\n",
        "\n",
        "        # encoder, decoder\n",
        "        self.encoder = resnet18_encoder(False, False)\n",
        "        self.decoder = resnet18_decoder(\n",
        "            latent_dim=latent_dim, \n",
        "            input_height=input_height, \n",
        "            first_conv=False, \n",
        "            maxpool1=False\n",
        "        )\n",
        "\n",
        "        # distribution parameters\n",
        "        self.fc_mu = nn.Linear(enc_out_dim, latent_dim)\n",
        "        self.fc_var = nn.Linear(enc_out_dim, latent_dim)"
      ]
    },
    {
      "cell_type": "markdown",
      "metadata": {
        "id": "ZOnfCpUL0oJp"
      },
      "source": [
        "#### Sample z\n",
        "\n",
        "In Lightning we define the model interactions and the core algorithm in the training_step.\n",
        "\n",
        "For EDUCATIONAL purposes only, we are adding the training_step to the lightning module here instead of in the original class definition\n",
        "\n",
        "The VAE algorithm goes like this:\n",
        "\n",
        "1. Sample z"
      ]
    },
    {
      "cell_type": "code",
      "execution_count": 3,
      "metadata": {
        "id": "k2Y1o0JvJ4KR"
      },
      "outputs": [],
      "source": [
        "vae = VAE()"
      ]
    },
    {
      "cell_type": "code",
      "execution_count": 4,
      "metadata": {
        "colab": {
          "base_uri": "https://localhost:8080/"
        },
        "id": "M2DA3vyA1J63",
        "outputId": "a5b7285b-9587-4184-a539-057ab2343e9e"
      },
      "outputs": [
        {
          "name": "stdout",
          "output_type": "stream",
          "text": [
            "image shape: torch.Size([1, 3, 32, 32])\n",
            "mu: torch.Size([1, 256])\n",
            "log_var: torch.Size([1, 256])\n",
            "z shape: torch.Size([1, 256])\n"
          ]
        }
      ],
      "source": [
        "# DATA\n",
        "# we're pretending to have an image from cifar-10 (3 channels, 32x32 pixels)\n",
        "x = torch.rand(1, 3, 32, 32)\n",
        "\n",
        "print('image shape:', x.shape)\n",
        "\n",
        "# GET Q(z|x) PARAMETERS\n",
        "# encode x to get the mu and variance parameters\n",
        "x_encoded = vae.encoder(x)\n",
        "mu, log_var = vae.fc_mu(x_encoded), vae.fc_var(x_encoded)\n",
        "\n",
        "print('mu:', mu.shape)\n",
        "print('log_var:', log_var.shape)\n",
        "\n",
        "# SAMPLE Z from Q(Z|x)\n",
        "std = torch.exp(log_var / 2)\n",
        "q = torch.distributions.Normal(mu, std)\n",
        "z = q.rsample()\n",
        "\n",
        "print('z shape:', z.shape)"
      ]
    },
    {
      "cell_type": "code",
      "execution_count": 5,
      "metadata": {
        "id": "zXdEHb2BKoFi"
      },
      "outputs": [],
      "source": [
        "zero = torch.zeros_like(mu)\n",
        "one = torch.ones_like(std)\n",
        "p = torch.distributions.Normal(zero, one)"
      ]
    },
    {
      "cell_type": "markdown",
      "metadata": {
        "id": "279hJbHi4G5W"
      },
      "source": [
        "#### decoding\n",
        "\n",
        "The second part is reconstruction.\n",
        "\n",
        "The decoder is going to take as input $z$ and it will generate PARAMETERS for a distribution from which to sample a reconstruction.\n",
        "\n",
        "Note: Most tutorials use MNIST so the decoder generates BERNOULLI variables which can be used in a bernoulli distribution to sample a value for each pixel.\n",
        "\n",
        "That's right, the decoder generates distribution parameters FOR EACH pixel. And since most tutorials use MNIST the outputs of the decoder will LOOK like a digit because those parameters are in the range 0-1 (which happens to be the same for black and white images).\n"
      ]
    },
    {
      "cell_type": "markdown",
      "metadata": {
        "id": "5amgCaDC5PHu"
      },
      "source": [
        "But in our case, we'll actually use CIFAR-10 which are color images... so we need to do something more realistic:\n"
      ]
    },
    {
      "cell_type": "code",
      "execution_count": 6,
      "metadata": {
        "colab": {
          "base_uri": "https://localhost:8080/"
        },
        "id": "4MObpA0R5VPm",
        "outputId": "15cb1231-b562-4d8f-e2a2-2138fa0bffd5"
      },
      "outputs": [
        {
          "name": "stdout",
          "output_type": "stream",
          "text": [
            "torch.Size([1, 3, 32, 32])\n"
          ]
        }
      ],
      "source": [
        "x_hat = vae.decoder(z)\n",
        "print(x_hat.shape)"
      ]
    },
    {
      "cell_type": "markdown",
      "metadata": {
        "id": "riXmLJvg5vDa"
      },
      "source": [
        "#### reconstruction loss \n",
        "\n",
        "You'll likely see the reconstruction loss using MSE like this in most tutorials about autoencoders.\n",
        "\n",
        "However, MSE DOES not apply to Variational autoencoders"
      ]
    },
    {
      "cell_type": "code",
      "execution_count": 7,
      "metadata": {
        "colab": {
          "base_uri": "https://localhost:8080/"
        },
        "id": "vgigEWDs7Y-4",
        "outputId": "a1a0619b-beee-49f8-dffd-324c789081d4"
      },
      "outputs": [
        {
          "name": "stdout",
          "output_type": "stream",
          "text": [
            "wrong reconstruction loss tensor([3358.1484], grad_fn=<SumBackward1>)\n"
          ]
        }
      ],
      "source": [
        "recon_loss = F.mse_loss(x_hat, x, reduction='none')\n",
        "recon_loss = recon_loss.sum(-1).sum(-1).sum(-1)\n",
        "print('wrong reconstruction loss', recon_loss)"
      ]
    },
    {
      "cell_type": "markdown",
      "metadata": {
        "id": "Tzk-TjFbVWsn"
      },
      "source": [
        "Instead, the output of the decoder represents parameters for a distribution.\n",
        "\n",
        "When the images are MNIST, the parameters (decoder output) can be considered bernoullis and thus you can use the pixel values of MNIST (because they are ones and zeros) to calculate the cross entropy (which is the \"reconstruction loss\").\n",
        "\n",
        "But when dealing with color images, it is prefered to model each parameter out of the decoder as a gaussian."
      ]
    },
    {
      "cell_type": "code",
      "execution_count": 8,
      "metadata": {
        "colab": {
          "base_uri": "https://localhost:8080/"
        },
        "id": "I-k-xjjWV9s9",
        "outputId": "6b6ad199-c572-4626-fedc-9265c690bd7f"
      },
      "outputs": [
        {
          "name": "stdout",
          "output_type": "stream",
          "text": [
            "we have these many parameters for a distribution: torch.Size([1, 3, 32, 32])\n",
            "torch.Size([1, 3, 32, 32])\n",
            "torch.Size([1])\n",
            "reconstruction loss: -4502.0537109375\n"
          ]
        }
      ],
      "source": [
        "# get the PARAMETERS for P(x|z)\n",
        "x_hat = vae.decoder(z)\n",
        "print('we have these many parameters for a distribution:', x_hat.shape)\n",
        "\n",
        "# compute the probability of x under this n-dimensional distribution\n",
        "log_scale = nn.Parameter(torch.Tensor([0.0]))\n",
        "scale = torch.exp(log_scale)\n",
        "dist = torch.distributions.Normal(x_hat, scale)\n",
        "log_pxz = dist.log_prob(x)\n",
        "\n",
        "print(log_pxz.shape)\n",
        "\n",
        "# sum across channels, and all pixels (width, height)\n",
        "# this gives the log probability of THIS particular IMAGE\n",
        "log_pxz = log_pxz.sum(dim=(1, 2, 3))\n",
        "print(log_pxz.shape)\n",
        "print('reconstruction loss:', log_pxz.item())\n",
        "\n",
        "recon_loss = log_pxz"
      ]
    },
    {
      "cell_type": "markdown",
      "metadata": {
        "id": "Euc6MmJY_soH"
      },
      "source": [
        "#### kl divergence\n",
        "\n",
        "Next we'll define the second term of the loss which is the KL divergence.\n",
        "\n",
        "Now, we don't want to compute the KL divergence analytically, so we'll instead use the monte carlo estimate.\n",
        "\n",
        "$$\n",
        "= \\mathbb{E}_{q}  \\log \\frac{q(z|x)}{p(z)}\\\\\n",
        "= \\mathbb{E}_{q} [\\log q(z|x) - \\log{p(z)}]\n",
        "$$\n",
        "\n",
        "To code this, we'll need to be able to get the probability of z under each of $p(z)$ and $q(z|x)$.\n",
        "\n",
        "This means we don't need to know what the distribution is, but only sample from it.\n"
      ]
    },
    {
      "cell_type": "code",
      "execution_count": 9,
      "metadata": {
        "colab": {
          "base_uri": "https://localhost:8080/"
        },
        "id": "rg3jfRGcA0xQ",
        "outputId": "dce87df5-c8b0-4eab-f3d6-2895613d20f2"
      },
      "outputs": [
        {
          "name": "stdout",
          "output_type": "stream",
          "text": [
            "torch.Size([1, 256]) torch.Size([1, 256])\n",
            "tensor([24.8270], grad_fn=<SumBackward1>)\n"
          ]
        }
      ],
      "source": [
        "# 1. define the first two probabilities (in this case Normal for both)\n",
        "p = torch.distributions.Normal(torch.zeros_like(mu), torch.ones_like(std))\n",
        "q = torch.distributions.Normal(mu, std)\n",
        "\n",
        "# 2. get the probabilities from the equation\n",
        "log_qzx = q.log_prob(z)\n",
        "log_pz = p.log_prob(z)\n",
        "\n",
        "print(log_qzx.shape, log_pz.shape)\n",
        "\n",
        "# 3. calculate the KL\n",
        "kl = (log_qzx - log_pz)\n",
        "\n",
        "# 4. this bit is a bit tricky. Since these are log probabilities\n",
        "# we can sum all the individual dimensions to give us the multi-dimensional\n",
        "# probability\n",
        "kl = kl.sum(-1)\n",
        "print(kl)"
      ]
    },
    {
      "cell_type": "markdown",
      "metadata": {
        "id": "W2IRTuZ-CECD"
      },
      "source": [
        "#### ELBO\n",
        "\n",
        "So, the full elbo is:"
      ]
    },
    {
      "cell_type": "code",
      "execution_count": 10,
      "metadata": {
        "colab": {
          "base_uri": "https://localhost:8080/"
        },
        "id": "IywdHb8HCGmW",
        "outputId": "d6495fb7-cb04-4d64-b26e-620a30f21c9b"
      },
      "outputs": [
        {
          "name": "stdout",
          "output_type": "stream",
          "text": [
            "kl: tensor(24.8270, grad_fn=<MeanBackward0>)\n",
            "log likelihood (reconstruction loss): tensor(-4502.0537, grad_fn=<MeanBackward0>)\n",
            "elbo:  tensor(4526.8809, grad_fn=<MeanBackward0>)\n"
          ]
        }
      ],
      "source": [
        "elbo = (kl - recon_loss)\n",
        "print('kl:', kl.mean())\n",
        "print('log likelihood (reconstruction loss):', recon_loss.mean())\n",
        "print('elbo: ', elbo.mean())"
      ]
    },
    {
      "cell_type": "markdown",
      "metadata": {
        "id": "ZJfbA6qmFyDo"
      },
      "source": [
        "# Full Implementation\n",
        "So, the full implementation is as follows."
      ]
    },
    {
      "cell_type": "code",
      "execution_count": 11,
      "metadata": {},
      "outputs": [
        {
          "name": "stdout",
          "output_type": "stream",
          "text": [
            "1 2 3\n"
          ]
        }
      ],
      "source": [
        "(a, b), c = (1, 2), 3\n",
        "\n",
        "print(a, b, c)"
      ]
    },
    {
      "cell_type": "code",
      "execution_count": 12,
      "metadata": {
        "id": "a3_ABiO0F3jM"
      },
      "outputs": [],
      "source": [
        "import pytorch_lightning as pl\n",
        "from torch import nn\n",
        "from torch.nn import functional as F\n",
        "from pl_bolts.models.autoencoders.components import (\n",
        "    resnet18_decoder,\n",
        "    resnet18_encoder,\n",
        ")\n",
        "\n",
        "class VAE(pl.LightningModule):\n",
        "    def __init__(self, enc_out_dim=512, latent_dim=256, input_height=32):\n",
        "        super().__init__()\n",
        "\n",
        "        self.save_hyperparameters()\n",
        "\n",
        "        # encoder, decoder\n",
        "        self.encoder = resnet18_encoder(False, False)\n",
        "        self.decoder = resnet18_decoder(\n",
        "            latent_dim=latent_dim, \n",
        "            input_height=input_height, \n",
        "            first_conv=False, \n",
        "            maxpool1=False\n",
        "        )\n",
        "\n",
        "        # for one-hot encoded CIFAR labels\n",
        "        self.fc = nn.Linear(10, enc_out_dim)\n",
        "\n",
        "        # distribution parameters\n",
        "        self.fc_mu = nn.Linear(enc_out_dim * 2, latent_dim)\n",
        "        self.fc_var = nn.Linear(enc_out_dim * 2, latent_dim)\n",
        "\n",
        "        # for the gaussian likelihood\n",
        "        self.log_scale = nn.Parameter(torch.Tensor([0.0]))\n",
        "\n",
        "    def configure_optimizers(self):\n",
        "        return torch.optim.Adam(self.parameters(), lr=1e-4)\n",
        "\n",
        "    def gaussian_likelihood(self, mean, logscale, sample):\n",
        "        scale = torch.exp(logscale)\n",
        "        dist = torch.distributions.Normal(mean, scale)\n",
        "        log_pxz = dist.log_prob(sample)\n",
        "        return log_pxz.sum(dim=(1, 2, 3))\n",
        "\n",
        "    def kl_divergence(self, z, mu, std):\n",
        "        # --------------------------\n",
        "        # Monte carlo KL divergence\n",
        "        # --------------------------\n",
        "        # 1. define the first two probabilities (in this case Normal for both)\n",
        "        p = torch.distributions.Normal(torch.zeros_like(mu), torch.ones_like(std))\n",
        "        q = torch.distributions.Normal(mu, std)\n",
        "\n",
        "        # 2. get the probabilities from the equation\n",
        "        log_qzx = q.log_prob(z)\n",
        "        log_pz = p.log_prob(z)\n",
        "\n",
        "        # kl\n",
        "        kl = (log_qzx - log_pz)\n",
        "        kl = kl.sum(-1)\n",
        "        return kl\n",
        "\n",
        "    def training_step(self, batch, batch_idx):\n",
        "        (x, x_label), _ = batch\n",
        "\n",
        "        # encode x to get the mu and variance parameters\n",
        "        x_encoded = self.encoder(x)\n",
        "        x_label_encoded = self.fc(x_label)\n",
        "        x_encoded = torch.cat([x_encoded, x_label_encoded], dim=1)\n",
        "        \n",
        "        # print(\"Shape of x_encoded:\", x_encoded.shape)\n",
        "        # return \n",
        "        mu, log_var = self.fc_mu(x_encoded), self.fc_var(x_encoded)\n",
        "\n",
        "        # sample z from q\n",
        "        std = torch.exp(log_var / 2)\n",
        "        q = torch.distributions.Normal(mu, std)\n",
        "        z = q.rsample()\n",
        "\n",
        "        # decoded \n",
        "        x_hat = vae.decoder(z)\n",
        "\n",
        "        # reconstruction loss\n",
        "        recon_loss = self.gaussian_likelihood(x_hat, self.log_scale, x)\n",
        "\n",
        "        # kl\n",
        "        kl = self.kl_divergence(z, mu, std)\n",
        "\n",
        "        # elbo\n",
        "        elbo = (kl - recon_loss)\n",
        "        elbo = elbo.mean()\n",
        "\n",
        "        self.log_dict({\n",
        "            'elbo': elbo,\n",
        "            'kl': kl.mean(),\n",
        "            'recon_loss': recon_loss.mean(), \n",
        "            'reconstruction': recon_loss.mean(),\n",
        "            'kl': kl.mean(),\n",
        "        })\n",
        "\n",
        "        return elbo\n",
        "\n",
        "    def forw_encoder(self, x):\n",
        "\n",
        "        x, x_label = x\n",
        "        x_encoded = self.encoder(x)\n",
        "        x_label_encoded = self.fc(x_label)\n",
        "        x_encoded = torch.cat([x_encoded, x_label_encoded], dim=1)\n",
        "    \n",
        "        mu, log_var = self.fc_mu(x_encoded), self.fc_var(x_encoded)\n",
        "\n",
        "        return mu, log_var\n",
        "    \n",
        "    def forw_decoder(self, mu, log_var):\n",
        "        # sample z from q\n",
        "        std = torch.exp(log_var / 2)\n",
        "        q = torch.distributions.Normal(mu, std)\n",
        "        z = q.rsample()\n",
        "\n",
        "        # decoded \n",
        "        x_hat = vae.decoder(z)\n",
        "\n",
        "        return x_hat\n",
        "\n",
        "        "
      ]
    },
    {
      "cell_type": "markdown",
      "metadata": {
        "id": "dfNn23pPG6XU"
      },
      "source": [
        "Let's use CIFAR-10 already split up and transformed.\n",
        "\n",
        "The Lightning Datamodule has 3 dataloaders, train, val, test"
      ]
    },
    {
      "cell_type": "code",
      "execution_count": 13,
      "metadata": {},
      "outputs": [],
      "source": [
        "import torch\n",
        "import torch.nn.functional as F\n",
        "from torch.utils.data import Dataset\n",
        "from torchvision import transforms\n",
        "from torchvision.datasets import CIFAR10\n",
        "from pytorch_lightning import LightningDataModule\n",
        "# import dataloader\n",
        "from torch.utils.data import DataLoader\n",
        "\n",
        "class CIFAR10WithLabelsDataset(Dataset):\n",
        "    def __init__(self, cifar10_dataset):\n",
        "        self.cifar10_dataset = cifar10_dataset\n",
        "        self.num_classes = 10\n",
        "\n",
        "    def __len__(self):\n",
        "        return len(self.cifar10_dataset)\n",
        "\n",
        "    def __getitem__(self, idx):\n",
        "        image, label = self.cifar10_dataset[idx]\n",
        "        label_tensor = torch.tensor(label, dtype=torch.int64)\n",
        "        \n",
        "        # One-hot encoding the label\n",
        "        one_hot_label = F.one_hot(label_tensor, num_classes=self.num_classes).float()\n",
        "        \n",
        "        return (image, one_hot_label), label\n",
        "\n",
        "class CIFAR10DataModule(LightningDataModule):\n",
        "    def __init__(self, data_dir: str = \"./data\", batch_size: int = 256, num_workers: int = 4):\n",
        "        super().__init__()\n",
        "        self.data_dir = data_dir\n",
        "        self.batch_size = batch_size\n",
        "        self.num_workers = num_workers\n",
        "        self.transform = transforms.Compose([\n",
        "            transforms.Resize((32, 32)),\n",
        "            transforms.ToTensor(),\n",
        "            # use cifar normalization\n",
        "            transforms.Normalize((0.4914, 0.4822, 0.4465), (0.247, 0.243, 0.261))\n",
        "            \n",
        "            \n",
        "\n",
        "        ])\n",
        "\n",
        "    def setup(self, stage=None):\n",
        "        cifar10_train = CIFAR10(self.data_dir, train=True, download=True, transform=self.transform)\n",
        "        cifar10_val = CIFAR10(self.data_dir, train=False, download=True, transform=self.transform)\n",
        "        self.cifar10_train = CIFAR10WithLabelsDataset(cifar10_train)\n",
        "        self.cifar10_val = CIFAR10WithLabelsDataset(cifar10_val)\n",
        "\n",
        "    def train_dataloader(self):\n",
        "        return DataLoader(self.cifar10_train, batch_size=self.batch_size, num_workers=self.num_workers)\n",
        "\n",
        "    def val_dataloader(self):\n",
        "        return DataLoader(self.cifar10_val, batch_size=self.batch_size, num_workers=self.num_workers)\n",
        "\n",
        "# # Example usage\n",
        "\n",
        "\n",
        "# x, y = cifar10_data.train_dataloader().dataset[0]\n"
      ]
    },
    {
      "cell_type": "markdown",
      "metadata": {
        "id": "6wTKaSheHNYS"
      },
      "source": [
        "Now we train!"
      ]
    },
    {
      "cell_type": "code",
      "execution_count": 14,
      "metadata": {
        "colab": {
          "base_uri": "https://localhost:8080/",
          "height": 833,
          "referenced_widgets": [
            "f439eb4b51b84ee785cb6e9b222a4f46",
            "77e450b233cc41c3a0d7905f9747cec4",
            "cd22258e7f82495b84af60105b6ec1e7",
            "bfb3c11cfb8a4bff9b7fab7e2fc7a8e6",
            "a33883de0701451dbb5df3eb050b4829",
            "a9afd1eef79143ec966809ff046c7d8d",
            "b02acbf1719c4c94b0026935becb292f",
            "ef417701511b496fa52a9b3595872402",
            "2564ba9c186a4a0c97afed82e6a6de9e",
            "392d704a4ff24ccf995b8ee943f048c0",
            "cb2944a63e914b86a35bc47f1ff9f4d5",
            "689d35abe0a74782b04a442738ea4754",
            "b7d87e62572b4302b42d05fbfd039c76",
            "d99a8cd7c5694a95aba1880b00d5f111",
            "4b14e76b2113485a879481e113063bfd",
            "d73acc5f688e403599cc59deef6641fa"
          ]
        },
        "id": "MvBo844ZHQhF",
        "outputId": "cfd3fc80-f9b7-454e-cd0e-7c28ddabc2f7"
      },
      "outputs": [
        {
          "name": "stderr",
          "output_type": "stream",
          "text": [
            "Global seed set to 1234\n"
          ]
        },
        {
          "name": "stdout",
          "output_type": "stream",
          "text": [
            "Files already downloaded and verified\n",
            "Files already downloaded and verified\n"
          ]
        },
        {
          "name": "stderr",
          "output_type": "stream",
          "text": [
            "GPU available: True, used: True\n",
            "TPU available: None, using: 0 TPU cores\n",
            "LOCAL_RANK: 0 - CUDA_VISIBLE_DEVICES: [0]\n"
          ]
        }
      ],
      "source": [
        "pl.seed_everything(1234)\n",
        "\n",
        "\n",
        "cifar10_data = CIFAR10DataModule(batch_size=32)\n",
        "cifar10_data.setup()\n",
        "\n",
        "\n",
        "vae = VAE()\n",
        "\n",
        "trainer = pl.Trainer(gpus=1, max_epochs=30)\n"
      ]
    },
    {
      "cell_type": "code",
      "execution_count": 15,
      "metadata": {},
      "outputs": [
        {
          "name": "stderr",
          "output_type": "stream",
          "text": [
            "/home/shivam13juna/Documents/virtual_envs/mlo/lib/python3.10/site-packages/pytorch_lightning/utilities/distributed.py:50: UserWarning: you passed in a val_dataloader but have no validation_step. Skipping validation loop\n",
            "  warnings.warn(*args, **kwargs)\n"
          ]
        }
      ],
      "source": [
        "\n",
        "trainer.fit(vae, datamodule=cifar10_data)"
      ]
    },
    {
      "cell_type": "code",
      "execution_count": null,
      "metadata": {},
      "outputs": [],
      "source": [
        "# save vae\n",
        "torch.save(vae.state_dict(), \"vae.pt\")"
      ]
    },
    {
      "cell_type": "markdown",
      "metadata": {
        "id": "spIp7mogliDI"
      },
      "source": [
        "## Plot an image"
      ]
    },
    {
      "cell_type": "code",
      "execution_count": null,
      "metadata": {},
      "outputs": [
        {
          "data": {
            "text/plain": [
              "torch.Size([1, 256])"
            ]
          },
          "execution_count": 16,
          "metadata": {},
          "output_type": "execute_result"
        }
      ],
      "source": [
        "mu.shape"
      ]
    },
    {
      "cell_type": "code",
      "execution_count": null,
      "metadata": {},
      "outputs": [],
      "source": [
        "# extract data from cifar10\n",
        "x, y = cifar10_data.train_dataloader().dataset[1]"
      ]
    },
    {
      "cell_type": "code",
      "execution_count": null,
      "metadata": {},
      "outputs": [],
      "source": [
        "mu, log_var = vae.forw_encoder((x[0].unsqueeze(0), x[1].unsqueeze(0)))\n",
        "mu = mu.squeeze(0)\n",
        "log_var = log_var.squeeze(0)"
      ]
    },
    {
      "cell_type": "code",
      "execution_count": null,
      "metadata": {},
      "outputs": [],
      "source": [
        "std = torch.exp(log_var * 0.5)"
      ]
    },
    {
      "cell_type": "code",
      "execution_count": null,
      "metadata": {
        "colab": {
          "base_uri": "https://localhost:8080/",
          "height": 331
        },
        "id": "pj91rMEcXxco",
        "outputId": "a842e981-1077-4187-a599-b8c3b5f93f87"
      },
      "outputs": [
        {
          "name": "stderr",
          "output_type": "stream",
          "text": [
            "Clipping input data to the valid range for imshow with RGB data ([0..1] for floats or [0..255] for integers).\n"
          ]
        },
        {
          "data": {
            "image/png": "[encoded data removed]",
            "text/plain": [
              "<Figure size 2400x900 with 1 Axes>"
            ]
          },
          "metadata": {},
          "output_type": "display_data"
        }
      ],
      "source": [
        "from matplotlib.pyplot import imshow, figure\n",
        "import numpy as np\n",
        "from torchvision.utils import make_grid\n",
        "from pl_bolts.transforms.dataset_normalizations import cifar10_normalization\n",
        "figure(figsize=(8, 3), dpi=300)\n",
        "\n",
        "# Z COMES FROM NORMAL(0, 1)\n",
        "num_preds = 16\n",
        "p = torch.distributions.Normal(mu, std)\n",
        "z = p.rsample((num_preds,))\n",
        "\n",
        "# SAMPLE IMAGES\n",
        "with torch.no_grad():\n",
        "    pred = vae.decoder(z.to(vae.device)).cpu()\n",
        "\n",
        "# UNDO DATA NORMALIZATION\n",
        "normalize = cifar10_normalization()\n",
        "mean, std = np.array(normalize.mean), np.array(normalize.std)\n",
        "img = make_grid(pred).permute(1, 2, 0).numpy() * std + mean\n",
        "\n",
        "# PLOT IMAGES\n",
        "imshow(img);"
      ]
    },
    {
      "cell_type": "code",
      "execution_count": null,
      "metadata": {},
      "outputs": [],
      "source": []
    }
  ],
  "metadata": {
    "accelerator": "GPU",
    "colab": {
      "provenance": [],
      "toc_visible": true
    },
    "kernelspec": {
      "display_name": "Python 3",
      "name": "python3"
    },
    "language_info": {
      "codemirror_mode": {
        "name": "ipython",
        "version": 3
      },
      "file_extension": ".py",
      "mimetype": "text/x-python",
      "name": "python",
      "nbconvert_exporter": "python",
      "pygments_lexer": "ipython3",
      "version": "3.10.6"
    },
    "widgets": {
      "application/vnd.jupyter.widget-state+json": {
        "2564ba9c186a4a0c97afed82e6a6de9e": {
          "model_module": "@jupyter-widgets/controls",
          "model_module_version": "1.5.0",
          "model_name": "HBoxModel",
          "state": {
            "_dom_classes": [],
            "_model_module": "@jupyter-widgets/controls",
            "_model_module_version": "1.5.0",
            "_model_name": "HBoxModel",
            "_view_count": null,
            "_view_module": "@jupyter-widgets/controls",
            "_view_module_version": "1.5.0",
            "_view_name": "HBoxView",
            "box_style": "",
            "children": [
              "IPY_MODEL_cb2944a63e914b86a35bc47f1ff9f4d5",
              "IPY_MODEL_689d35abe0a74782b04a442738ea4754"
            ],
            "layout": "IPY_MODEL_392d704a4ff24ccf995b8ee943f048c0"
          }
        },
        "392d704a4ff24ccf995b8ee943f048c0": {
          "model_module": "@jupyter-widgets/base",
          "model_module_version": "1.2.0",
          "model_name": "LayoutModel",
          "state": {
            "_model_module": "@jupyter-widgets/base",
            "_model_module_version": "1.2.0",
            "_model_name": "LayoutModel",
            "_view_count": null,
            "_view_module": "@jupyter-widgets/base",
            "_view_module_version": "1.2.0",
            "_view_name": "LayoutView",
            "align_content": null,
            "align_items": null,
            "align_self": null,
            "border": null,
            "bottom": null,
            "display": "inline-flex",
            "flex": null,
            "flex_flow": "row wrap",
            "grid_area": null,
            "grid_auto_columns": null,
            "grid_auto_flow": null,
            "grid_auto_rows": null,
            "grid_column": null,
            "grid_gap": null,
            "grid_row": null,
            "grid_template_areas": null,
            "grid_template_columns": null,
            "grid_template_rows": null,
            "height": null,
            "justify_content": null,
            "justify_items": null,
            "left": null,
            "margin": null,
            "max_height": null,
            "max_width": null,
            "min_height": null,
            "min_width": null,
            "object_fit": null,
            "object_position": null,
            "order": null,
            "overflow": null,
            "overflow_x": null,
            "overflow_y": null,
            "padding": null,
            "right": null,
            "top": null,
            "visibility": null,
            "width": "100%"
          }
        },
        "4b14e76b2113485a879481e113063bfd": {
          "model_module": "@jupyter-widgets/controls",
          "model_module_version": "1.5.0",
          "model_name": "DescriptionStyleModel",
          "state": {
            "_model_module": "@jupyter-widgets/controls",
            "_model_module_version": "1.5.0",
            "_model_name": "DescriptionStyleModel",
            "_view_count": null,
            "_view_module": "@jupyter-widgets/base",
            "_view_module_version": "1.2.0",
            "_view_name": "StyleView",
            "description_width": ""
          }
        },
        "689d35abe0a74782b04a442738ea4754": {
          "model_module": "@jupyter-widgets/controls",
          "model_module_version": "1.5.0",
          "model_name": "HTMLModel",
          "state": {
            "_dom_classes": [],
            "_model_module": "@jupyter-widgets/controls",
            "_model_module_version": "1.5.0",
            "_model_name": "HTMLModel",
            "_view_count": null,
            "_view_module": "@jupyter-widgets/controls",
            "_view_module_version": "1.5.0",
            "_view_name": "HTMLView",
            "description": "",
            "description_tooltip": null,
            "layout": "IPY_MODEL_d73acc5f688e403599cc59deef6641fa",
            "placeholder": "​",
            "style": "IPY_MODEL_4b14e76b2113485a879481e113063bfd",
            "value": " 540/1406 [00:58&lt;01:33,  9.22it/s, loss=1044.294, v_num=0]"
          }
        },
        "77e450b233cc41c3a0d7905f9747cec4": {
          "model_module": "@jupyter-widgets/base",
          "model_module_version": "1.2.0",
          "model_name": "LayoutModel",
          "state": {
            "_model_module": "@jupyter-widgets/base",
            "_model_module_version": "1.2.0",
            "_model_name": "LayoutModel",
            "_view_count": null,
            "_view_module": "@jupyter-widgets/base",
            "_view_module_version": "1.2.0",
            "_view_name": "LayoutView",
            "align_content": null,
            "align_items": null,
            "align_self": null,
            "border": null,
            "bottom": null,
            "display": null,
            "flex": null,
            "flex_flow": null,
            "grid_area": null,
            "grid_auto_columns": null,
            "grid_auto_flow": null,
            "grid_auto_rows": null,
            "grid_column": null,
            "grid_gap": null,
            "grid_row": null,
            "grid_template_areas": null,
            "grid_template_columns": null,
            "grid_template_rows": null,
            "height": null,
            "justify_content": null,
            "justify_items": null,
            "left": null,
            "margin": null,
            "max_height": null,
            "max_width": null,
            "min_height": null,
            "min_width": null,
            "object_fit": null,
            "object_position": null,
            "order": null,
            "overflow": null,
            "overflow_x": null,
            "overflow_y": null,
            "padding": null,
            "right": null,
            "top": null,
            "visibility": null,
            "width": null
          }
        },
        "a33883de0701451dbb5df3eb050b4829": {
          "model_module": "@jupyter-widgets/controls",
          "model_module_version": "1.5.0",
          "model_name": "ProgressStyleModel",
          "state": {
            "_model_module": "@jupyter-widgets/controls",
            "_model_module_version": "1.5.0",
            "_model_name": "ProgressStyleModel",
            "_view_count": null,
            "_view_module": "@jupyter-widgets/base",
            "_view_module_version": "1.2.0",
            "_view_name": "StyleView",
            "bar_color": null,
            "description_width": "initial"
          }
        },
        "a9afd1eef79143ec966809ff046c7d8d": {
          "model_module": "@jupyter-widgets/base",
          "model_module_version": "1.2.0",
          "model_name": "LayoutModel",
          "state": {
            "_model_module": "@jupyter-widgets/base",
            "_model_module_version": "1.2.0",
            "_model_name": "LayoutModel",
            "_view_count": null,
            "_view_module": "@jupyter-widgets/base",
            "_view_module_version": "1.2.0",
            "_view_name": "LayoutView",
            "align_content": null,
            "align_items": null,
            "align_self": null,
            "border": null,
            "bottom": null,
            "display": null,
            "flex": null,
            "flex_flow": null,
            "grid_area": null,
            "grid_auto_columns": null,
            "grid_auto_flow": null,
            "grid_auto_rows": null,
            "grid_column": null,
            "grid_gap": null,
            "grid_row": null,
            "grid_template_areas": null,
            "grid_template_columns": null,
            "grid_template_rows": null,
            "height": null,
            "justify_content": null,
            "justify_items": null,
            "left": null,
            "margin": null,
            "max_height": null,
            "max_width": null,
            "min_height": null,
            "min_width": null,
            "object_fit": null,
            "object_position": null,
            "order": null,
            "overflow": null,
            "overflow_x": null,
            "overflow_y": null,
            "padding": null,
            "right": null,
            "top": null,
            "visibility": null,
            "width": null
          }
        },
        "b02acbf1719c4c94b0026935becb292f": {
          "model_module": "@jupyter-widgets/controls",
          "model_module_version": "1.5.0",
          "model_name": "DescriptionStyleModel",
          "state": {
            "_model_module": "@jupyter-widgets/controls",
            "_model_module_version": "1.5.0",
            "_model_name": "DescriptionStyleModel",
            "_view_count": null,
            "_view_module": "@jupyter-widgets/base",
            "_view_module_version": "1.2.0",
            "_view_name": "StyleView",
            "description_width": ""
          }
        },
        "b7d87e62572b4302b42d05fbfd039c76": {
          "model_module": "@jupyter-widgets/controls",
          "model_module_version": "1.5.0",
          "model_name": "ProgressStyleModel",
          "state": {
            "_model_module": "@jupyter-widgets/controls",
            "_model_module_version": "1.5.0",
            "_model_name": "ProgressStyleModel",
            "_view_count": null,
            "_view_module": "@jupyter-widgets/base",
            "_view_module_version": "1.2.0",
            "_view_name": "StyleView",
            "bar_color": null,
            "description_width": "initial"
          }
        },
        "bfb3c11cfb8a4bff9b7fab7e2fc7a8e6": {
          "model_module": "@jupyter-widgets/controls",
          "model_module_version": "1.5.0",
          "model_name": "HTMLModel",
          "state": {
            "_dom_classes": [],
            "_model_module": "@jupyter-widgets/controls",
            "_model_module_version": "1.5.0",
            "_model_name": "HTMLModel",
            "_view_count": null,
            "_view_module": "@jupyter-widgets/controls",
            "_view_module_version": "1.5.0",
            "_view_name": "HTMLView",
            "description": "",
            "description_tooltip": null,
            "layout": "IPY_MODEL_ef417701511b496fa52a9b3595872402",
            "placeholder": "​",
            "style": "IPY_MODEL_b02acbf1719c4c94b0026935becb292f",
            "value": " 170500096/? [00:20&lt;00:00, 50443788.15it/s]"
          }
        },
        "cb2944a63e914b86a35bc47f1ff9f4d5": {
          "model_module": "@jupyter-widgets/controls",
          "model_module_version": "1.5.0",
          "model_name": "FloatProgressModel",
          "state": {
            "_dom_classes": [],
            "_model_module": "@jupyter-widgets/controls",
            "_model_module_version": "1.5.0",
            "_model_name": "FloatProgressModel",
            "_view_count": null,
            "_view_module": "@jupyter-widgets/controls",
            "_view_module_version": "1.5.0",
            "_view_name": "ProgressView",
            "bar_style": "info",
            "description": "Epoch 18:  38%",
            "description_tooltip": null,
            "layout": "IPY_MODEL_d99a8cd7c5694a95aba1880b00d5f111",
            "max": 1406,
            "min": 0,
            "orientation": "horizontal",
            "style": "IPY_MODEL_b7d87e62572b4302b42d05fbfd039c76",
            "value": 540
          }
        },
        "cd22258e7f82495b84af60105b6ec1e7": {
          "model_module": "@jupyter-widgets/controls",
          "model_module_version": "1.5.0",
          "model_name": "FloatProgressModel",
          "state": {
            "_dom_classes": [],
            "_model_module": "@jupyter-widgets/controls",
            "_model_module_version": "1.5.0",
            "_model_name": "FloatProgressModel",
            "_view_count": null,
            "_view_module": "@jupyter-widgets/controls",
            "_view_module_version": "1.5.0",
            "_view_name": "ProgressView",
            "bar_style": "info",
            "description": "",
            "description_tooltip": null,
            "layout": "IPY_MODEL_a9afd1eef79143ec966809ff046c7d8d",
            "max": 1,
            "min": 0,
            "orientation": "horizontal",
            "style": "IPY_MODEL_a33883de0701451dbb5df3eb050b4829",
            "value": 1
          }
        },
        "d73acc5f688e403599cc59deef6641fa": {
          "model_module": "@jupyter-widgets/base",
          "model_module_version": "1.2.0",
          "model_name": "LayoutModel",
          "state": {
            "_model_module": "@jupyter-widgets/base",
            "_model_module_version": "1.2.0",
            "_model_name": "LayoutModel",
            "_view_count": null,
            "_view_module": "@jupyter-widgets/base",
            "_view_module_version": "1.2.0",
            "_view_name": "LayoutView",
            "align_content": null,
            "align_items": null,
            "align_self": null,
            "border": null,
            "bottom": null,
            "display": null,
            "flex": null,
            "flex_flow": null,
            "grid_area": null,
            "grid_auto_columns": null,
            "grid_auto_flow": null,
            "grid_auto_rows": null,
            "grid_column": null,
            "grid_gap": null,
            "grid_row": null,
            "grid_template_areas": null,
            "grid_template_columns": null,
            "grid_template_rows": null,
            "height": null,
            "justify_content": null,
            "justify_items": null,
            "left": null,
            "margin": null,
            "max_height": null,
            "max_width": null,
            "min_height": null,
            "min_width": null,
            "object_fit": null,
            "object_position": null,
            "order": null,
            "overflow": null,
            "overflow_x": null,
            "overflow_y": null,
            "padding": null,
            "right": null,
            "top": null,
            "visibility": null,
            "width": null
          }
        },
        "d99a8cd7c5694a95aba1880b00d5f111": {
          "model_module": "@jupyter-widgets/base",
          "model_module_version": "1.2.0",
          "model_name": "LayoutModel",
          "state": {
            "_model_module": "@jupyter-widgets/base",
            "_model_module_version": "1.2.0",
            "_model_name": "LayoutModel",
            "_view_count": null,
            "_view_module": "@jupyter-widgets/base",
            "_view_module_version": "1.2.0",
            "_view_name": "LayoutView",
            "align_content": null,
            "align_items": null,
            "align_self": null,
            "border": null,
            "bottom": null,
            "display": null,
            "flex": "2",
            "flex_flow": null,
            "grid_area": null,
            "grid_auto_columns": null,
            "grid_auto_flow": null,
            "grid_auto_rows": null,
            "grid_column": null,
            "grid_gap": null,
            "grid_row": null,
            "grid_template_areas": null,
            "grid_template_columns": null,
            "grid_template_rows": null,
            "height": null,
            "justify_content": null,
            "justify_items": null,
            "left": null,
            "margin": null,
            "max_height": null,
            "max_width": null,
            "min_height": null,
            "min_width": null,
            "object_fit": null,
            "object_position": null,
            "order": null,
            "overflow": null,
            "overflow_x": null,
            "overflow_y": null,
            "padding": null,
            "right": null,
            "top": null,
            "visibility": null,
            "width": null
          }
        },
        "ef417701511b496fa52a9b3595872402": {
          "model_module": "@jupyter-widgets/base",
          "model_module_version": "1.2.0",
          "model_name": "LayoutModel",
          "state": {
            "_model_module": "@jupyter-widgets/base",
            "_model_module_version": "1.2.0",
            "_model_name": "LayoutModel",
            "_view_count": null,
            "_view_module": "@jupyter-widgets/base",
            "_view_module_version": "1.2.0",
            "_view_name": "LayoutView",
            "align_content": null,
            "align_items": null,
            "align_self": null,
            "border": null,
            "bottom": null,
            "display": null,
            "flex": null,
            "flex_flow": null,
            "grid_area": null,
            "grid_auto_columns": null,
            "grid_auto_flow": null,
            "grid_auto_rows": null,
            "grid_column": null,
            "grid_gap": null,
            "grid_row": null,
            "grid_template_areas": null,
            "grid_template_columns": null,
            "grid_template_rows": null,
            "height": null,
            "justify_content": null,
            "justify_items": null,
            "left": null,
            "margin": null,
            "max_height": null,
            "max_width": null,
            "min_height": null,
            "min_width": null,
            "object_fit": null,
            "object_position": null,
            "order": null,
            "overflow": null,
            "overflow_x": null,
            "overflow_y": null,
            "padding": null,
            "right": null,
            "top": null,
            "visibility": null,
            "width": null
          }
        },
        "f439eb4b51b84ee785cb6e9b222a4f46": {
          "model_module": "@jupyter-widgets/controls",
          "model_module_version": "1.5.0",
          "model_name": "HBoxModel",
          "state": {
            "_dom_classes": [],
            "_model_module": "@jupyter-widgets/controls",
            "_model_module_version": "1.5.0",
            "_model_name": "HBoxModel",
            "_view_count": null,
            "_view_module": "@jupyter-widgets/controls",
            "_view_module_version": "1.5.0",
            "_view_name": "HBoxView",
            "box_style": "",
            "children": [
              "IPY_MODEL_cd22258e7f82495b84af60105b6ec1e7",
              "IPY_MODEL_bfb3c11cfb8a4bff9b7fab7e2fc7a8e6"
            ],
            "layout": "IPY_MODEL_77e450b233cc41c3a0d7905f9747cec4"
          }
        }
      }
    }
  },
  "nbformat": 4,
  "nbformat_minor": 0
}
