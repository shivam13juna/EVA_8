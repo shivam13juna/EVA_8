{
 "cells": [
  {
   "cell_type": "code",
   "execution_count": 1,
   "metadata": {},
   "outputs": [
    {
     "name": "stderr",
     "output_type": "stream",
     "text": [
      "/home/shivam13juna/Documents/virtual_envs/mlo/lib/python3.10/site-packages/tqdm/auto.py:22: TqdmWarning: IProgress not found. Please update jupyter and ipywidgets. See https://ipywidgets.readthedocs.io/en/stable/user_install.html\n",
      "  from .autonotebook import tqdm as notebook_tqdm\n",
      "/home/shivam13juna/Documents/virtual_envs/mlo/lib/python3.10/site-packages/pl_bolts/utils/warnings.py:30: UserWarning: You want to use `wandb` which is not installed yet, install it with `pip install wandb`.\n",
      "  stdout_func(\n"
     ]
    }
   ],
   "source": [
    "import torch\n",
    "from torch import nn\n",
    "from torch.nn import functional as F\n",
    "\n",
    "from abc import abstractmethod\n",
    "\n",
    "from typing import List, Callable, Union, Any, TypeVar, Tuple\n",
    "# from torch import tensor as Tensor\n",
    "\n",
    "Tensor = TypeVar('torch.tensor')\n",
    "from pl_bolts.callbacks import PrintTableMetricsCallback\n",
    "\n",
    "# import partial\n",
    "from functools import partial\n",
    "import pytorch_lightning as pl\n",
    "from torch.optim import Adam\n",
    "from pytorch_lightning import Trainer\n",
    "\n",
    "import os\n",
    "import torch\n",
    "from torchvision import transforms\n",
    "from torchvision.datasets import MNIST\n",
    "from torch.utils.data import DataLoader\n",
    "from pytorch_lightning import LightningDataModule\n",
    "import torchvision\n",
    "\n",
    "import matplotlib.pyplot as plt \n",
    "\n",
    "%matplotlib inline"
   ]
  },
  {
   "attachments": {},
   "cell_type": "markdown",
   "metadata": {},
   "source": [
    "# Defining Data Module"
   ]
  },
  {
   "cell_type": "code",
   "execution_count": 2,
   "metadata": {},
   "outputs": [],
   "source": [
    "from torch.utils.data import Dataset\n",
    "\n",
    "class MNISTWithLabelsDataset(Dataset):\n",
    "    def __init__(self, mnist_dataset):\n",
    "        self.mnist_dataset = mnist_dataset\n",
    "        self.num_classes = 10\n",
    "\n",
    "    def __len__(self):\n",
    "        return len(self.mnist_dataset)\n",
    "\n",
    "    def __getitem__(self, idx):\n",
    "        image, label = self.mnist_dataset[idx]\n",
    "        label_tensor = torch.tensor(label, dtype=torch.int64)\n",
    "        # print(label_tensor.shape)\n",
    "        # print(image.shape)\n",
    "        # onehot encoding the label\n",
    "        one_hot_label = F.one_hot(label_tensor, num_classes=self.num_classes).float()\n",
    "        \n",
    "        return (image, one_hot_label), label\n",
    "        # return image, label\n",
    "\n",
    "\n",
    "\n",
    "class MNISTDataModule(LightningDataModule):\n",
    "    def __init__(self, data_dir: str = \"./data\", batch_size: int = 256, num_workers: int = 4):\n",
    "        super().__init__()\n",
    "        self.data_dir = data_dir\n",
    "        self.batch_size = batch_size\n",
    "        self.num_workers = num_workers\n",
    "        self.transform = transforms.Compose([\n",
    "            transforms.Resize((32, 32)),\n",
    "            transforms.ToTensor(),\n",
    "            transforms.Normalize((0.1307,), (0.3081,))\n",
    "            \n",
    "        ])\n",
    "\n",
    "    def setup(self, stage=None):\n",
    "        mnist_train = MNIST(self.data_dir, train=True, download=True, transform=self.transform)\n",
    "        mnist_val = MNIST(self.data_dir, train=False, download=True, transform=self.transform)\n",
    "        self.mnist_train = MNISTWithLabelsDataset(mnist_train)\n",
    "        self.mnist_val = MNISTWithLabelsDataset(mnist_val)\n",
    "\n",
    "    def train_dataloader(self):\n",
    "        return DataLoader(self.mnist_train, batch_size=self.batch_size, num_workers=self.num_workers)\n",
    "\n",
    "    def val_dataloader(self):\n",
    "        return DataLoader(self.mnist_val, batch_size=self.batch_size, num_workers=self.num_workers)\n",
    "\n",
    "\n",
    "# mnist_data = MNISTDataModule()\n",
    "\n",
    "# mnist_data.setup()\n",
    "\n",
    "# x, y = mnist_data.train_dataloader().dataset[0]\n",
    "\n",
    "# print(x[0][0])"
   ]
  },
  {
   "attachments": {},
   "cell_type": "markdown",
   "metadata": {},
   "source": [
    "# Defining Base Model"
   ]
  },
  {
   "cell_type": "code",
   "execution_count": 3,
   "metadata": {},
   "outputs": [],
   "source": [
    "class BaseVAE(nn.Module):\n",
    "    \n",
    "    def __init__(self) -> None:\n",
    "        super(BaseVAE, self).__init__()\n",
    "\n",
    "    def encode(self, input: Tensor) -> List[Tensor]:\n",
    "        raise NotImplementedError\n",
    "\n",
    "    def decode(self, input: Tensor) -> Any:\n",
    "        raise NotImplementedError\n",
    "\n",
    "    def sample(self, batch_size:int, current_device: int, **kwargs) -> Tensor:\n",
    "        raise NotImplementedError\n",
    "\n",
    "    def generate(self, x: Tensor, **kwargs) -> Tensor:\n",
    "        raise NotImplementedError\n",
    "\n",
    "    @abstractmethod\n",
    "    def forward(self, *inputs: Tensor) -> Tensor:\n",
    "        pass\n",
    "\n",
    "    @abstractmethod\n",
    "    def loss_function(self, *inputs: Any, **kwargs) -> Tensor:\n",
    "        pass\n",
    "\n",
    "\n"
   ]
  },
  {
   "attachments": {},
   "cell_type": "markdown",
   "metadata": {},
   "source": [
    "# Defining VAE Model"
   ]
  },
  {
   "cell_type": "code",
   "execution_count": 4,
   "metadata": {},
   "outputs": [],
   "source": [
    "# nn class for printing input shape \n",
    "class myprint_pre(nn.Module):\n",
    "    def __init__(self):\n",
    "        super(myprint_pre, self).__init__()\n",
    "    def forward(self, x, text = ''):\n",
    "        # print(\"\\nShape pre-print is: \", x.shape, end='\\t')\n",
    "        return x\n",
    "\n",
    "class myprint_post(nn.Module):\n",
    "    def __init__(self):\n",
    "        super(myprint_post, self).__init__()\n",
    "    def forward(self, x, text = ''):\n",
    "        # print(\"Shape post-print is: \", x.shape, end='')\n",
    "        return x\n",
    "\n",
    "\n",
    "class VanillaVAE(BaseVAE):\n",
    "\n",
    "\n",
    "    def __init__(self,\n",
    "                 in_channels: int,\n",
    "                 latent_dim: int,\n",
    "                 hidden_dims: List = None,\n",
    "                 **kwargs) -> None:\n",
    "        super(VanillaVAE, self).__init__()\n",
    "\n",
    "        self.latent_dim = latent_dim\n",
    "        self.pre_print = myprint_pre()\n",
    "        self.post_print = myprint_post()\n",
    "\n",
    "        modules = []\n",
    "        if hidden_dims is None:\n",
    "            hidden_dims = [32, 64, 128, 256, 512]\n",
    "        self.hd = hidden_dims.copy()\n",
    "\n",
    "        # Build Encoder\n",
    "        for h_dim in hidden_dims:\n",
    "            # cprint = partial(self.print, text = h_dim)\n",
    "            modules.append(\n",
    "                nn.Sequential(\n",
    "                    self.pre_print,\n",
    "                    nn.Conv2d(in_channels, out_channels=h_dim,\n",
    "                              kernel_size= 3, stride= 2, padding  = 1),\n",
    "                    nn.BatchNorm2d(h_dim),\n",
    "                    nn.LeakyReLU(),\n",
    "                    self.post_print\n",
    "                    # cprint\n",
    "                )\n",
    "\n",
    "            )\n",
    "            in_channels = h_dim\n",
    "\n",
    "        self.encoder = nn.Sequential(*modules)\n",
    "        self.fc_mu = nn.Linear(hidden_dims[-1] * 2, latent_dim)\n",
    "        self.fc_var = nn.Linear(hidden_dims[-1] * 2, latent_dim)\n",
    "\n",
    "        self.one_hot_encoded_dense = nn.Linear(10, self.hd[-1])\n",
    "\n",
    "        # Build Decoder\n",
    "        modules = []\n",
    "\n",
    "        self.decoder_input = nn.Linear(latent_dim, hidden_dims[-1])\n",
    "\n",
    "        hidden_dims.reverse()\n",
    "\n",
    "        for i in range(len(hidden_dims) - 1):\n",
    "            modules.append(\n",
    "                nn.Sequential(\n",
    "                    self.pre_print,\n",
    "                    nn.ConvTranspose2d(hidden_dims[i],\n",
    "                                       hidden_dims[i + 1],\n",
    "                                       kernel_size=3,\n",
    "                                       stride = 2,\n",
    "                                       padding=1,\n",
    "                                       output_padding=1),\n",
    "                    nn.BatchNorm2d(hidden_dims[i + 1]),\n",
    "                    nn.LeakyReLU(),\n",
    "                    self.post_print\n",
    "                )\n",
    "            )\n",
    "\n",
    "\n",
    "\n",
    "        self.decoder = nn.Sequential(*modules)\n",
    "\n",
    "        self.final_layer = nn.Sequential(\n",
    "                            nn.ConvTranspose2d(hidden_dims[-1],\n",
    "                                               hidden_dims[-1],\n",
    "                                               kernel_size=3,\n",
    "                                               stride=2,\n",
    "                                               padding=1,\n",
    "                                               output_padding=1),\n",
    "                            nn.BatchNorm2d(hidden_dims[-1]),\n",
    "                            nn.LeakyReLU(),\n",
    "                            nn.Conv2d(hidden_dims[-1], out_channels= 1,\n",
    "                                      kernel_size= 3, padding= 1),\n",
    "                            nn.Tanh())\n",
    "\n",
    "    def encode(self, input: Tensor) -> List[Tensor]:\n",
    "        \"\"\"\n",
    "        Encodes the input by passing through the encoder network\n",
    "        and returns the latent codes.\n",
    "        :param input: (Tensor) Input tensor to encoder [N x C x H x W]\n",
    "        :return: (Tensor) List of latent codes\n",
    "        \"\"\"\n",
    "        # print(\"Input to encoder is: \", input[0].shape, input[1].shape)\n",
    "        result = self.encoder(input[0])\n",
    "\n",
    "        encoded_dense = self.one_hot_encoded_dense(input[1])\n",
    "        # print(\"\\nResult of encoder is: \", result.shape)\n",
    "        result = torch.flatten(result, start_dim=1)\n",
    "        # print(\"Result of encoder flattened is: \", result.shape)\n",
    "\n",
    "        #concatenate the one hot encoded dense layer with the flattened result\n",
    "        result = torch.cat((result, encoded_dense), dim=1)\n",
    "\n",
    "        # print(\"Result of encoder concatenated is: \", result.shape)\n",
    "\n",
    "        # Split the result into mu and var components\n",
    "        # of the latent Gaussian distribution\n",
    "        mu = self.fc_mu(result)\n",
    "        log_var = self.fc_var(result)\n",
    "\n",
    "        return [mu, log_var]\n",
    "\n",
    "    def decode(self, z: Tensor) -> Tensor:\n",
    "        \"\"\"\n",
    "        Maps the given latent codes\n",
    "        onto the image space.\n",
    "        :param z: (Tensor) [B x D]\n",
    "        :return: (Tensor) [B x C x H x W]\n",
    "        \"\"\"\n",
    "        # print(\"\\nInput to decoder is: \", z.shape)\n",
    "        result = self.decoder_input(z)\n",
    "        # print(\"Result of decoder input is: \", result.shape)\n",
    "        result = result.view(-1, self.hd[-1], 1, 1)\n",
    "        # print(\"Result of decoder input reshaped is: \", result.shape)\n",
    "        result = self.decoder(result)\n",
    "        # print(\"Result of decoder is: \", result.shape)\n",
    "        result = self.final_layer(result)\n",
    "        # print(\"Result of final layer is: \", result.shape)\n",
    "        return result\n",
    "\n",
    "    def reparameterize(self, mu: Tensor, logvar: Tensor) -> Tensor:\n",
    "        \"\"\"\n",
    "        Reparameterization trick to sample from N(mu, var) from\n",
    "        N(0,1).\n",
    "        :param mu: (Tensor) Mean of the latent Gaussian [B x D]\n",
    "        :param logvar: (Tensor) Standard deviation of the latent Gaussian [B x D]\n",
    "        :return: (Tensor) [B x D]\n",
    "        \"\"\"\n",
    "        std = torch.exp(0.5 * logvar)\n",
    "        eps = torch.randn_like(std)\n",
    "        return eps * std + mu\n",
    "\n",
    "    def forward(self, input: Tensor, **kwargs) -> List[Tensor]:\n",
    "        # print(\"\\nInput shape in forward: \", len(input), input[0].shape, input[1].shape)\n",
    "        mu, log_var = self.encode(input)\n",
    "        # print(\"Shape of mu in forward: \", mu.shape)\n",
    "        # print(\"Shape of log_var in forward: \", log_var.shape)\n",
    "        z = self.reparameterize(mu, log_var)\n",
    "        # print(\"Shape of z (post reparameterize) in forward: \", z.shape)\n",
    "        return  [self.decode(z), input, mu, log_var]\n",
    "\n",
    "    def loss_function(self,\n",
    "                      *args,\n",
    "                      **kwargs) -> dict:\n",
    "        \"\"\"\n",
    "        Computes the VAE loss function.\n",
    "        KL(N(\\mu, \\sigma), N(0, 1)) = \\log \\frac{1}{\\sigma} + \\frac{\\sigma^2 + \\mu^2}{2} - \\frac{1}{2}\n",
    "        :param args:\n",
    "        :param kwargs:\n",
    "        :return:\n",
    "        \"\"\"\n",
    "        recons = args[0]\n",
    "        input = args[1]\n",
    "        mu = args[2]\n",
    "        log_var = args[3]\n",
    "\n",
    "        kld_weight = kwargs['M_N'] # Account for the minibatch samples from the dataset\n",
    "\n",
    "        # print(\"\\nShape of recons: \", recons.shape)\n",
    "        # print(\"Shape of input: \", input.shape)\n",
    "\n",
    "        recons_loss =F.mse_loss(recons, input[0])\n",
    "\n",
    "\n",
    "        kld_loss = torch.mean(-0.5 * torch.sum(1 + log_var - mu ** 2 - log_var.exp(), dim = 1), dim = 0)\n",
    "\n",
    "        loss = recons_loss + kld_weight * kld_loss\n",
    "        return {'loss': loss, 'Reconstruction_Loss':recons_loss.detach(), 'KLD':-kld_loss.detach()}\n",
    "\n",
    "    def sample(self,\n",
    "               num_samples:int,\n",
    "               current_device: int, **kwargs) -> Tensor:\n",
    "        \"\"\"\n",
    "        Samples from the latent space and return the corresponding\n",
    "        image space map.\n",
    "        :param num_samples: (Int) Number of samples\n",
    "        :param current_device: (Int) Device to run the model\n",
    "        :return: (Tensor)\n",
    "        \"\"\"\n",
    "        z = torch.randn(num_samples,\n",
    "                        self.latent_dim)\n",
    "\n",
    "        z = z.to(current_device)\n",
    "\n",
    "        samples = self.decode(z)\n",
    "        return samples\n",
    "\n",
    "    def generate(self, x: Tensor, **kwargs) -> Tensor:\n",
    "        \"\"\"\n",
    "        Given an input image x, returns the reconstructed image\n",
    "        :param x: (Tensor) [B x C x H x W]\n",
    "        :return: (Tensor) [B x C x H x W]\n",
    "        \"\"\"\n",
    "\n",
    "        return self.forward(x)[0]"
   ]
  },
  {
   "attachments": {},
   "cell_type": "markdown",
   "metadata": {},
   "source": [
    "# Pytorch Lightning Module"
   ]
  },
  {
   "cell_type": "code",
   "execution_count": 5,
   "metadata": {},
   "outputs": [],
   "source": [
    "class VAEModel(pl.LightningModule):\n",
    "    def __init__(self, vae, lr: float = 1e-3):\n",
    "        super().__init__()\n",
    "        self.vae = vae\n",
    "        self.lr = lr\n",
    "\n",
    "    def forward(self, x):\n",
    "        return self.vae(x)\n",
    "\n",
    "    def training_step(self, batch, batch_idx):\n",
    "        x, _ = batch\n",
    "        results = self.vae(x)\n",
    "        # print(\"X is: \", len(x), x[0].shape, x[1].shape)\n",
    "        # print(\"Results from vae: \", len(results), results[0].shape, results[1].shape)\n",
    "        loss_dict = self.vae.loss_function(*results, M_N=x[0].shape[0])\n",
    "        loss = loss_dict['loss']\n",
    "        self.log(\"train_loss\", loss, on_step=True, on_epoch=True, prog_bar=True, logger=True)\n",
    "        return loss\n",
    "\n",
    "    def validation_step(self, batch, batch_idx):\n",
    "        x, _ = batch\n",
    "        results = self.vae(x)\n",
    "        # print(\"X is: \", len(x), x[0].shape, x[1].shape)\n",
    "        loss_dict = self.vae.loss_function(*results, M_N=x[0].shape[0])\n",
    "        loss = loss_dict['loss']\n",
    "        self.log(\"val_loss\", loss, on_step=True, on_epoch=True, prog_bar=True, logger=True)\n",
    "\n",
    "    def configure_optimizers(self):\n",
    "        return Adam(self.parameters(), lr=self.lr)\n",
    "\n",
    "    def generate(self, x):\n",
    "        return self.vae.generate(x)\n",
    "    \n",
    "    def sample(self, num_samples, current_device):\n",
    "        return self.vae.sample(num_samples, current_device)\n"
   ]
  },
  {
   "attachments": {},
   "cell_type": "markdown",
   "metadata": {},
   "source": [
    "# Starting Training"
   ]
  },
  {
   "cell_type": "code",
   "execution_count": 6,
   "metadata": {},
   "outputs": [],
   "source": [
    "callback = PrintTableMetricsCallback()\n"
   ]
  },
  {
   "cell_type": "code",
   "execution_count": 9,
   "metadata": {},
   "outputs": [
    {
     "name": "stderr",
     "output_type": "stream",
     "text": [
      "GPU available: True (cuda), used: True\n",
      "TPU available: False, using: 0 TPU cores\n",
      "IPU available: False, using: 0 IPUs\n",
      "HPU available: False, using: 0 HPUs\n",
      "LOCAL_RANK: 0 - CUDA_VISIBLE_DEVICES: [0]\n",
      "\n",
      "  | Name | Type       | Params\n",
      "------------------------------------\n",
      "0 | vae  | VanillaVAE | 4.5 M \n",
      "------------------------------------\n",
      "4.5 M     Trainable params\n",
      "0         Non-trainable params\n",
      "4.5 M     Total params\n",
      "17.863    Total estimated model params size (MB)\n"
     ]
    },
    {
     "name": "stdout",
     "output_type": "stream",
     "text": [
      "Sanity Checking DataLoader 0: 100%|██████████| 2/2 [00:00<00:00, 128.04it/s]"
     ]
    },
    {
     "name": "stderr",
     "output_type": "stream",
     "text": [
      "val_loss│val_loss_epoch\n",
      "───────────────────────\n",
      "1183.4251708984375│1183.4251708984375\n",
      "2.428086042404175│2.428086042404175\n",
      "2.428086042404175│2.428086042404175\n",
      "1100.5653076171875│1100.5653076171875\n"
     ]
    },
    {
     "name": "stdout",
     "output_type": "stream",
     "text": [
      "Epoch 0: 100%|██████████| 275/275 [00:06<00:00, 44.74it/s, loss=1.5, v_num=20, train_loss_step=1.160]      "
     ]
    },
    {
     "name": "stderr",
     "output_type": "stream",
     "text": [
      "val_loss│val_loss_epoch\n",
      "───────────────────────\n",
      "1183.4251708984375│1183.4251708984375\n",
      "2.428086042404175│2.428086042404175\n",
      "2.428086042404175│2.428086042404175\n",
      "1100.5653076171875│1100.5653076171875\n",
      "1.6685011386871338│1.6685011386871338\n"
     ]
    },
    {
     "name": "stdout",
     "output_type": "stream",
     "text": [
      "Epoch 0: 100%|██████████| 275/275 [00:06<00:00, 44.68it/s, loss=1.5, v_num=20, train_loss_step=1.160, val_loss_step=0.753, val_loss_epoch=1.670, train_loss_epoch=194.0]"
     ]
    },
    {
     "name": "stderr",
     "output_type": "stream",
     "text": [
      "val_loss│val_loss_epoch\n",
      "───────────────────────\n",
      "1183.4251708984375│1183.4251708984375\n",
      "2.428086042404175│2.428086042404175\n",
      "2.428086042404175│2.428086042404175\n",
      "1100.5653076171875│1100.5653076171875\n",
      "1.6685011386871338│1.6685011386871338\n",
      "1.6685011386871338│1.6685011386871338\n"
     ]
    },
    {
     "name": "stdout",
     "output_type": "stream",
     "text": [
      "Epoch 1: 100%|██████████| 275/275 [00:06<00:00, 45.20it/s, loss=1.08, v_num=20, train_loss_step=0.885, val_loss_step=0.753, val_loss_epoch=1.670, train_loss_epoch=194.0]"
     ]
    },
    {
     "name": "stderr",
     "output_type": "stream",
     "text": [
      "val_loss│val_loss_epoch\n",
      "───────────────────────\n",
      "1183.4251708984375│1183.4251708984375\n",
      "2.428086042404175│2.428086042404175\n",
      "2.428086042404175│2.428086042404175\n",
      "1100.5653076171875│1100.5653076171875\n",
      "1.6685011386871338│1.6685011386871338\n",
      "1.6685011386871338│1.6685011386871338\n",
      "1.2562588453292847│1.2562588453292847\n"
     ]
    },
    {
     "name": "stdout",
     "output_type": "stream",
     "text": [
      "Epoch 1: 100%|██████████| 275/275 [00:06<00:00, 45.15it/s, loss=1.08, v_num=20, train_loss_step=0.885, val_loss_step=0.726, val_loss_epoch=1.260, train_loss_epoch=1.330]"
     ]
    },
    {
     "name": "stderr",
     "output_type": "stream",
     "text": [
      "val_loss│val_loss_epoch\n",
      "───────────────────────\n",
      "1183.4251708984375│1183.4251708984375\n",
      "2.428086042404175│2.428086042404175\n",
      "2.428086042404175│2.428086042404175\n",
      "1100.5653076171875│1100.5653076171875\n",
      "1.6685011386871338│1.6685011386871338\n",
      "1.6685011386871338│1.6685011386871338\n",
      "1.2562588453292847│1.2562588453292847\n",
      "1.2562588453292847│1.2562588453292847\n"
     ]
    },
    {
     "name": "stdout",
     "output_type": "stream",
     "text": [
      "Epoch 2: 100%|██████████| 275/275 [00:05<00:00, 48.49it/s, loss=1.04, v_num=20, train_loss_step=0.923, val_loss_step=0.726, val_loss_epoch=1.260, train_loss_epoch=1.330]"
     ]
    },
    {
     "name": "stderr",
     "output_type": "stream",
     "text": [
      "val_loss│val_loss_epoch\n",
      "───────────────────────\n",
      "1183.4251708984375│1183.4251708984375\n",
      "2.428086042404175│2.428086042404175\n",
      "2.428086042404175│2.428086042404175\n",
      "1100.5653076171875│1100.5653076171875\n",
      "1.6685011386871338│1.6685011386871338\n",
      "1.6685011386871338│1.6685011386871338\n",
      "1.2562588453292847│1.2562588453292847\n",
      "1.2562588453292847│1.2562588453292847\n",
      "1.3525902032852173│1.3525902032852173\n"
     ]
    },
    {
     "name": "stdout",
     "output_type": "stream",
     "text": [
      "Epoch 2: 100%|██████████| 275/275 [00:05<00:00, 48.45it/s, loss=1.04, v_num=20, train_loss_step=0.923, val_loss_step=0.729, val_loss_epoch=1.350, train_loss_epoch=1.250]"
     ]
    },
    {
     "name": "stderr",
     "output_type": "stream",
     "text": [
      "val_loss│val_loss_epoch\n",
      "───────────────────────\n",
      "1183.4251708984375│1183.4251708984375\n",
      "2.428086042404175│2.428086042404175\n",
      "2.428086042404175│2.428086042404175\n",
      "1100.5653076171875│1100.5653076171875\n",
      "1.6685011386871338│1.6685011386871338\n",
      "1.6685011386871338│1.6685011386871338\n",
      "1.2562588453292847│1.2562588453292847\n",
      "1.2562588453292847│1.2562588453292847\n",
      "1.3525902032852173│1.3525902032852173\n",
      "1.3525902032852173│1.3525902032852173\n"
     ]
    },
    {
     "name": "stdout",
     "output_type": "stream",
     "text": [
      "Epoch 3: 100%|██████████| 275/275 [00:06<00:00, 44.62it/s, loss=1.06, v_num=20, train_loss_step=0.915, val_loss_step=0.729, val_loss_epoch=1.350, train_loss_epoch=1.250] "
     ]
    },
    {
     "name": "stderr",
     "output_type": "stream",
     "text": [
      "val_loss│val_loss_epoch\n",
      "───────────────────────\n",
      "1183.4251708984375│1183.4251708984375\n",
      "2.428086042404175│2.428086042404175\n",
      "2.428086042404175│2.428086042404175\n",
      "1100.5653076171875│1100.5653076171875\n",
      "1.6685011386871338│1.6685011386871338\n",
      "1.6685011386871338│1.6685011386871338\n",
      "1.2562588453292847│1.2562588453292847\n",
      "1.2562588453292847│1.2562588453292847\n",
      "1.3525902032852173│1.3525902032852173\n",
      "1.3525902032852173│1.3525902032852173\n",
      "1.378042221069336│1.378042221069336\n"
     ]
    },
    {
     "name": "stdout",
     "output_type": "stream",
     "text": [
      "Epoch 3: 100%|██████████| 275/275 [00:06<00:00, 44.58it/s, loss=1.06, v_num=20, train_loss_step=0.915, val_loss_step=0.732, val_loss_epoch=1.380, train_loss_epoch=1.400]"
     ]
    },
    {
     "name": "stderr",
     "output_type": "stream",
     "text": [
      "val_loss│val_loss_epoch\n",
      "───────────────────────\n",
      "1183.4251708984375│1183.4251708984375\n",
      "2.428086042404175│2.428086042404175\n",
      "2.428086042404175│2.428086042404175\n",
      "1100.5653076171875│1100.5653076171875\n",
      "1.6685011386871338│1.6685011386871338\n",
      "1.6685011386871338│1.6685011386871338\n",
      "1.2562588453292847│1.2562588453292847\n",
      "1.2562588453292847│1.2562588453292847\n",
      "1.3525902032852173│1.3525902032852173\n",
      "1.3525902032852173│1.3525902032852173\n",
      "1.378042221069336│1.378042221069336\n",
      "1.378042221069336│1.378042221069336\n"
     ]
    },
    {
     "name": "stdout",
     "output_type": "stream",
     "text": [
      "Epoch 4: 100%|██████████| 275/275 [00:05<00:00, 46.01it/s, loss=1.12, v_num=20, train_loss_step=0.900, val_loss_step=0.732, val_loss_epoch=1.380, train_loss_epoch=1.400] "
     ]
    },
    {
     "name": "stderr",
     "output_type": "stream",
     "text": [
      "val_loss│val_loss_epoch\n",
      "───────────────────────\n",
      "1183.4251708984375│1183.4251708984375\n",
      "2.428086042404175│2.428086042404175\n",
      "2.428086042404175│2.428086042404175\n",
      "1100.5653076171875│1100.5653076171875\n",
      "1.6685011386871338│1.6685011386871338\n",
      "1.6685011386871338│1.6685011386871338\n",
      "1.2562588453292847│1.2562588453292847\n",
      "1.2562588453292847│1.2562588453292847\n",
      "1.3525902032852173│1.3525902032852173\n",
      "1.3525902032852173│1.3525902032852173\n",
      "1.378042221069336│1.378042221069336\n",
      "1.378042221069336│1.378042221069336\n",
      "1.559173583984375│1.559173583984375\n"
     ]
    },
    {
     "name": "stdout",
     "output_type": "stream",
     "text": [
      "Epoch 4: 100%|██████████| 275/275 [00:05<00:00, 45.97it/s, loss=1.12, v_num=20, train_loss_step=0.900, val_loss_step=0.742, val_loss_epoch=1.560, train_loss_epoch=1.520]"
     ]
    },
    {
     "name": "stderr",
     "output_type": "stream",
     "text": [
      "val_loss│val_loss_epoch\n",
      "───────────────────────\n",
      "1183.4251708984375│1183.4251708984375\n",
      "2.428086042404175│2.428086042404175\n",
      "2.428086042404175│2.428086042404175\n",
      "1100.5653076171875│1100.5653076171875\n",
      "1.6685011386871338│1.6685011386871338\n",
      "1.6685011386871338│1.6685011386871338\n",
      "1.2562588453292847│1.2562588453292847\n",
      "1.2562588453292847│1.2562588453292847\n",
      "1.3525902032852173│1.3525902032852173\n",
      "1.3525902032852173│1.3525902032852173\n",
      "1.378042221069336│1.378042221069336\n",
      "1.378042221069336│1.378042221069336\n",
      "1.559173583984375│1.559173583984375\n",
      "1.559173583984375│1.559173583984375\n"
     ]
    },
    {
     "name": "stdout",
     "output_type": "stream",
     "text": [
      "Epoch 5: 100%|██████████| 275/275 [00:05<00:00, 46.66it/s, loss=1.38, v_num=20, train_loss_step=0.817, val_loss_step=0.742, val_loss_epoch=1.560, train_loss_epoch=1.520] "
     ]
    },
    {
     "name": "stderr",
     "output_type": "stream",
     "text": [
      "val_loss│val_loss_epoch\n",
      "───────────────────────\n",
      "1183.4251708984375│1183.4251708984375\n",
      "2.428086042404175│2.428086042404175\n",
      "2.428086042404175│2.428086042404175\n",
      "1100.5653076171875│1100.5653076171875\n",
      "1.6685011386871338│1.6685011386871338\n",
      "1.6685011386871338│1.6685011386871338\n",
      "1.2562588453292847│1.2562588453292847\n",
      "1.2562588453292847│1.2562588453292847\n",
      "1.3525902032852173│1.3525902032852173\n",
      "1.3525902032852173│1.3525902032852173\n",
      "1.378042221069336│1.378042221069336\n",
      "1.378042221069336│1.378042221069336\n",
      "1.559173583984375│1.559173583984375\n",
      "1.559173583984375│1.559173583984375\n",
      "1.4375540018081665│1.4375540018081665\n"
     ]
    },
    {
     "name": "stdout",
     "output_type": "stream",
     "text": [
      "Epoch 5: 100%|██████████| 275/275 [00:05<00:00, 46.62it/s, loss=1.38, v_num=20, train_loss_step=0.817, val_loss_step=0.732, val_loss_epoch=1.440, train_loss_epoch=1.440]"
     ]
    },
    {
     "name": "stderr",
     "output_type": "stream",
     "text": [
      "val_loss│val_loss_epoch\n",
      "───────────────────────\n",
      "1183.4251708984375│1183.4251708984375\n",
      "2.428086042404175│2.428086042404175\n",
      "2.428086042404175│2.428086042404175\n",
      "1100.5653076171875│1100.5653076171875\n",
      "1.6685011386871338│1.6685011386871338\n",
      "1.6685011386871338│1.6685011386871338\n",
      "1.2562588453292847│1.2562588453292847\n",
      "1.2562588453292847│1.2562588453292847\n",
      "1.3525902032852173│1.3525902032852173\n",
      "1.3525902032852173│1.3525902032852173\n",
      "1.378042221069336│1.378042221069336\n",
      "1.378042221069336│1.378042221069336\n",
      "1.559173583984375│1.559173583984375\n",
      "1.559173583984375│1.559173583984375\n",
      "1.4375540018081665│1.4375540018081665\n",
      "1.4375540018081665│1.4375540018081665\n"
     ]
    },
    {
     "name": "stdout",
     "output_type": "stream",
     "text": [
      "Epoch 6: 100%|██████████| 275/275 [00:05<00:00, 46.15it/s, loss=1.48, v_num=20, train_loss_step=0.798, val_loss_step=0.732, val_loss_epoch=1.440, train_loss_epoch=1.440] "
     ]
    },
    {
     "name": "stderr",
     "output_type": "stream",
     "text": [
      "val_loss│val_loss_epoch\n",
      "───────────────────────\n",
      "1183.4251708984375│1183.4251708984375\n",
      "2.428086042404175│2.428086042404175\n",
      "2.428086042404175│2.428086042404175\n",
      "1100.5653076171875│1100.5653076171875\n",
      "1.6685011386871338│1.6685011386871338\n",
      "1.6685011386871338│1.6685011386871338\n",
      "1.2562588453292847│1.2562588453292847\n",
      "1.2562588453292847│1.2562588453292847\n",
      "1.3525902032852173│1.3525902032852173\n",
      "1.3525902032852173│1.3525902032852173\n",
      "1.378042221069336│1.378042221069336\n",
      "1.378042221069336│1.378042221069336\n",
      "1.559173583984375│1.559173583984375\n",
      "1.559173583984375│1.559173583984375\n",
      "1.4375540018081665│1.4375540018081665\n",
      "1.4375540018081665│1.4375540018081665\n",
      "1.305791974067688│1.305791974067688\n"
     ]
    },
    {
     "name": "stdout",
     "output_type": "stream",
     "text": [
      "Epoch 6: 100%|██████████| 275/275 [00:05<00:00, 46.09it/s, loss=1.48, v_num=20, train_loss_step=0.798, val_loss_step=0.727, val_loss_epoch=1.310, train_loss_epoch=1.390]"
     ]
    },
    {
     "name": "stderr",
     "output_type": "stream",
     "text": [
      "val_loss│val_loss_epoch\n",
      "───────────────────────\n",
      "1183.4251708984375│1183.4251708984375\n",
      "2.428086042404175│2.428086042404175\n",
      "2.428086042404175│2.428086042404175\n",
      "1100.5653076171875│1100.5653076171875\n",
      "1.6685011386871338│1.6685011386871338\n",
      "1.6685011386871338│1.6685011386871338\n",
      "1.2562588453292847│1.2562588453292847\n",
      "1.2562588453292847│1.2562588453292847\n",
      "1.3525902032852173│1.3525902032852173\n",
      "1.3525902032852173│1.3525902032852173\n",
      "1.378042221069336│1.378042221069336\n",
      "1.378042221069336│1.378042221069336\n",
      "1.559173583984375│1.559173583984375\n",
      "1.559173583984375│1.559173583984375\n",
      "1.4375540018081665│1.4375540018081665\n",
      "1.4375540018081665│1.4375540018081665\n",
      "1.305791974067688│1.305791974067688\n",
      "1.305791974067688│1.305791974067688\n"
     ]
    },
    {
     "name": "stdout",
     "output_type": "stream",
     "text": [
      "Epoch 7: 100%|██████████| 275/275 [00:06<00:00, 44.67it/s, loss=1.15, v_num=20, train_loss_step=0.724, val_loss_step=0.727, val_loss_epoch=1.310, train_loss_epoch=1.390] "
     ]
    },
    {
     "name": "stderr",
     "output_type": "stream",
     "text": [
      "val_loss│val_loss_epoch\n",
      "───────────────────────\n",
      "1183.4251708984375│1183.4251708984375\n",
      "2.428086042404175│2.428086042404175\n",
      "2.428086042404175│2.428086042404175\n",
      "1100.5653076171875│1100.5653076171875\n",
      "1.6685011386871338│1.6685011386871338\n",
      "1.6685011386871338│1.6685011386871338\n",
      "1.2562588453292847│1.2562588453292847\n",
      "1.2562588453292847│1.2562588453292847\n",
      "1.3525902032852173│1.3525902032852173\n",
      "1.3525902032852173│1.3525902032852173\n",
      "1.378042221069336│1.378042221069336\n",
      "1.378042221069336│1.378042221069336\n",
      "1.559173583984375│1.559173583984375\n",
      "1.559173583984375│1.559173583984375\n",
      "1.4375540018081665│1.4375540018081665\n",
      "1.4375540018081665│1.4375540018081665\n",
      "1.305791974067688│1.305791974067688\n",
      "1.305791974067688│1.305791974067688\n",
      "1.0348377227783203│1.0348377227783203\n"
     ]
    },
    {
     "name": "stdout",
     "output_type": "stream",
     "text": [
      "Epoch 7: 100%|██████████| 275/275 [00:06<00:00, 44.61it/s, loss=1.15, v_num=20, train_loss_step=0.724, val_loss_step=0.714, val_loss_epoch=1.030, train_loss_epoch=1.220]"
     ]
    },
    {
     "name": "stderr",
     "output_type": "stream",
     "text": [
      "val_loss│val_loss_epoch\n",
      "───────────────────────\n",
      "1183.4251708984375│1183.4251708984375\n",
      "2.428086042404175│2.428086042404175\n",
      "2.428086042404175│2.428086042404175\n",
      "1100.5653076171875│1100.5653076171875\n",
      "1.6685011386871338│1.6685011386871338\n",
      "1.6685011386871338│1.6685011386871338\n",
      "1.2562588453292847│1.2562588453292847\n",
      "1.2562588453292847│1.2562588453292847\n",
      "1.3525902032852173│1.3525902032852173\n",
      "1.3525902032852173│1.3525902032852173\n",
      "1.378042221069336│1.378042221069336\n",
      "1.378042221069336│1.378042221069336\n",
      "1.559173583984375│1.559173583984375\n",
      "1.559173583984375│1.559173583984375\n",
      "1.4375540018081665│1.4375540018081665\n",
      "1.4375540018081665│1.4375540018081665\n",
      "1.305791974067688│1.305791974067688\n",
      "1.305791974067688│1.305791974067688\n",
      "1.0348377227783203│1.0348377227783203\n",
      "1.0348377227783203│1.0348377227783203\n"
     ]
    },
    {
     "name": "stdout",
     "output_type": "stream",
     "text": [
      "Epoch 8: 100%|██████████| 275/275 [00:06<00:00, 39.31it/s, loss=0.987, v_num=20, train_loss_step=0.688, val_loss_step=0.714, val_loss_epoch=1.030, train_loss_epoch=1.220]"
     ]
    },
    {
     "name": "stderr",
     "output_type": "stream",
     "text": [
      "val_loss│val_loss_epoch\n",
      "───────────────────────\n",
      "1183.4251708984375│1183.4251708984375\n",
      "2.428086042404175│2.428086042404175\n",
      "2.428086042404175│2.428086042404175\n",
      "1100.5653076171875│1100.5653076171875\n",
      "1.6685011386871338│1.6685011386871338\n",
      "1.6685011386871338│1.6685011386871338\n",
      "1.2562588453292847│1.2562588453292847\n",
      "1.2562588453292847│1.2562588453292847\n",
      "1.3525902032852173│1.3525902032852173\n",
      "1.3525902032852173│1.3525902032852173\n",
      "1.378042221069336│1.378042221069336\n",
      "1.378042221069336│1.378042221069336\n",
      "1.559173583984375│1.559173583984375\n",
      "1.559173583984375│1.559173583984375\n",
      "1.4375540018081665│1.4375540018081665\n",
      "1.4375540018081665│1.4375540018081665\n",
      "1.305791974067688│1.305791974067688\n",
      "1.305791974067688│1.305791974067688\n",
      "1.0348377227783203│1.0348377227783203\n",
      "1.0348377227783203│1.0348377227783203\n",
      "0.9110183715820312│0.9110183715820312\n"
     ]
    },
    {
     "name": "stdout",
     "output_type": "stream",
     "text": [
      "Epoch 8: 100%|██████████| 275/275 [00:07<00:00, 39.27it/s, loss=0.987, v_num=20, train_loss_step=0.688, val_loss_step=0.708, val_loss_epoch=0.911, train_loss_epoch=1.140]"
     ]
    },
    {
     "name": "stderr",
     "output_type": "stream",
     "text": [
      "val_loss│val_loss_epoch\n",
      "───────────────────────\n",
      "1183.4251708984375│1183.4251708984375\n",
      "2.428086042404175│2.428086042404175\n",
      "2.428086042404175│2.428086042404175\n",
      "1100.5653076171875│1100.5653076171875\n",
      "1.6685011386871338│1.6685011386871338\n",
      "1.6685011386871338│1.6685011386871338\n",
      "1.2562588453292847│1.2562588453292847\n",
      "1.2562588453292847│1.2562588453292847\n",
      "1.3525902032852173│1.3525902032852173\n",
      "1.3525902032852173│1.3525902032852173\n",
      "1.378042221069336│1.378042221069336\n",
      "1.378042221069336│1.378042221069336\n",
      "1.559173583984375│1.559173583984375\n",
      "1.559173583984375│1.559173583984375\n",
      "1.4375540018081665│1.4375540018081665\n",
      "1.4375540018081665│1.4375540018081665\n",
      "1.305791974067688│1.305791974067688\n",
      "1.305791974067688│1.305791974067688\n",
      "1.0348377227783203│1.0348377227783203\n",
      "1.0348377227783203│1.0348377227783203\n",
      "0.9110183715820312│0.9110183715820312\n",
      "0.9110183715820312│0.9110183715820312\n"
     ]
    },
    {
     "name": "stdout",
     "output_type": "stream",
     "text": [
      "Epoch 9: 100%|██████████| 275/275 [00:06<00:00, 41.25it/s, loss=1.02, v_num=20, train_loss_step=0.729, val_loss_step=0.708, val_loss_epoch=0.911, train_loss_epoch=1.140] "
     ]
    },
    {
     "name": "stderr",
     "output_type": "stream",
     "text": [
      "val_loss│val_loss_epoch\n",
      "───────────────────────\n",
      "1183.4251708984375│1183.4251708984375\n",
      "2.428086042404175│2.428086042404175\n",
      "2.428086042404175│2.428086042404175\n",
      "1100.5653076171875│1100.5653076171875\n",
      "1.6685011386871338│1.6685011386871338\n",
      "1.6685011386871338│1.6685011386871338\n",
      "1.2562588453292847│1.2562588453292847\n",
      "1.2562588453292847│1.2562588453292847\n",
      "1.3525902032852173│1.3525902032852173\n",
      "1.3525902032852173│1.3525902032852173\n",
      "1.378042221069336│1.378042221069336\n",
      "1.378042221069336│1.378042221069336\n",
      "1.559173583984375│1.559173583984375\n",
      "1.559173583984375│1.559173583984375\n",
      "1.4375540018081665│1.4375540018081665\n",
      "1.4375540018081665│1.4375540018081665\n",
      "1.305791974067688│1.305791974067688\n",
      "1.305791974067688│1.305791974067688\n",
      "1.0348377227783203│1.0348377227783203\n",
      "1.0348377227783203│1.0348377227783203\n",
      "0.9110183715820312│0.9110183715820312\n",
      "0.9110183715820312│0.9110183715820312\n",
      "0.9646825194358826│0.9646825194358826\n"
     ]
    },
    {
     "name": "stdout",
     "output_type": "stream",
     "text": [
      "Epoch 9: 100%|██████████| 275/275 [00:06<00:00, 41.21it/s, loss=1.02, v_num=20, train_loss_step=0.729, val_loss_step=0.714, val_loss_epoch=0.965, train_loss_epoch=1.110]"
     ]
    },
    {
     "name": "stderr",
     "output_type": "stream",
     "text": [
      "val_loss│val_loss_epoch\n",
      "───────────────────────\n",
      "1183.4251708984375│1183.4251708984375\n",
      "2.428086042404175│2.428086042404175\n",
      "2.428086042404175│2.428086042404175\n",
      "1100.5653076171875│1100.5653076171875\n",
      "1.6685011386871338│1.6685011386871338\n",
      "1.6685011386871338│1.6685011386871338\n",
      "1.2562588453292847│1.2562588453292847\n",
      "1.2562588453292847│1.2562588453292847\n",
      "1.3525902032852173│1.3525902032852173\n",
      "1.3525902032852173│1.3525902032852173\n",
      "1.378042221069336│1.378042221069336\n",
      "1.378042221069336│1.378042221069336\n",
      "1.559173583984375│1.559173583984375\n",
      "1.559173583984375│1.559173583984375\n",
      "1.4375540018081665│1.4375540018081665\n",
      "1.4375540018081665│1.4375540018081665\n",
      "1.305791974067688│1.305791974067688\n",
      "1.305791974067688│1.305791974067688\n",
      "1.0348377227783203│1.0348377227783203\n",
      "1.0348377227783203│1.0348377227783203\n",
      "0.9110183715820312│0.9110183715820312\n",
      "0.9110183715820312│0.9110183715820312\n",
      "0.9646825194358826│0.9646825194358826\n",
      "0.9646825194358826│0.9646825194358826\n",
      "`Trainer.fit` stopped: `max_epochs=10` reached.\n"
     ]
    },
    {
     "name": "stdout",
     "output_type": "stream",
     "text": [
      "Epoch 9: 100%|██████████| 275/275 [00:06<00:00, 40.17it/s, loss=1.02, v_num=20, train_loss_step=0.729, val_loss_step=0.714, val_loss_epoch=0.965, train_loss_epoch=1.110]\n"
     ]
    }
   ],
   "source": [
    "from pytorch_lightning import Trainer\n",
    "\n",
    "# Set up the MNIST DataModule\n",
    "mnist_datamodule = MNISTDataModule()\n",
    "\n",
    "# Initialize the VAE\n",
    "in_channels = 1\n",
    "latent_dim = 512 \n",
    "vae = VanillaVAE(in_channels=in_channels, latent_dim=latent_dim)\n",
    "\n",
    "# Initialize the Lightning Module for the VAE\n",
    "vae_model = VAEModel(vae)\n",
    "trainer = Trainer(max_epochs=10, gpus=torch.cuda.device_count(), callbacks=[callback])\n",
    "trainer.fit(vae_model, datamodule=mnist_datamodule)\n",
    "\n",
    "# Save the trained VAE model\n",
    "torch.save(vae_model.state_dict(), \"vae_mnist.pth\")\n",
    "\n"
   ]
  },
  {
   "attachments": {},
   "cell_type": "markdown",
   "metadata": {},
   "source": [
    "# Sampling"
   ]
  },
  {
   "cell_type": "code",
   "execution_count": 21,
   "metadata": {},
   "outputs": [
    {
     "data": {
      "text/plain": [
       "torch.Size([1, 1, 32, 32])"
      ]
     },
     "execution_count": 21,
     "metadata": {},
     "output_type": "execute_result"
    }
   ],
   "source": [
    "mnist_datamodule.mnist_val[4][0][0].unsqueeze(0).shape"
   ]
  },
  {
   "cell_type": "code",
   "execution_count": 27,
   "metadata": {},
   "outputs": [
    {
     "data": {
      "text/plain": [
       "torch.Size([1, 10])"
      ]
     },
     "execution_count": 27,
     "metadata": {},
     "output_type": "execute_result"
    }
   ],
   "source": [
    "mnist_datamodule.mnist_val[4][0][1].unsqueeze(0).shape"
   ]
  },
  {
   "cell_type": "code",
   "execution_count": 29,
   "metadata": {},
   "outputs": [
    {
     "data": {
      "image/png": "[encoded data removed]",
      "text/plain": [
       "<Figure size 640x480 with 1 Axes>"
      ]
     },
     "metadata": {},
     "output_type": "display_data"
    },
    {
     "data": {
      "image/png": "[encoded data removed]",
      "text/plain": [
       "<Figure size 640x480 with 1 Axes>"
      ]
     },
     "metadata": {},
     "output_type": "display_data"
    },
    {
     "data": {
      "image/png": "[encoded data removed]",
      "text/plain": [
       "<Figure size 640x480 with 1 Axes>"
      ]
     },
     "metadata": {},
     "output_type": "display_data"
    },
    {
     "data": {
      "image/png": "[encoded data removed]",
      "text/plain": [
       "<Figure size 640x480 with 1 Axes>"
      ]
     },
     "metadata": {},
     "output_type": "display_data"
    },
    {
     "data": {
      "image/png": "[encoded data removed]",
      "text/plain": [
       "<Figure size 640x480 with 1 Axes>"
      ]
     },
     "metadata": {},
     "output_type": "display_data"
    },
    {
     "data": {
      "image/png": "[encoded data removed]",
      "text/plain": [
       "<Figure size 640x480 with 1 Axes>"
      ]
     },
     "metadata": {},
     "output_type": "display_data"
    },
    {
     "data": {
      "image/png": "[encoded data removed]",
      "text/plain": [
       "<Figure size 640x480 with 1 Axes>"
      ]
     },
     "metadata": {},
     "output_type": "display_data"
    }
   ],
   "source": [
    "def imshow(tensor, title=None):\n",
    "    tensor = tensor.detach().cpu()\n",
    "    img = torchvision.transforms.ToPILImage()(tensor)\n",
    "    plt.imshow(img)\n",
    "    if title is not None:\n",
    "        plt.title(title)\n",
    "    plt.pause(0.001)  # Pause a bit so that plots are updated\n",
    "    \n",
    "vae_model.eval()\n",
    "\n",
    "# Load a sample from the MNIST dataset\n",
    "id = 4\n",
    "mnist_sample = (mnist_datamodule.mnist_val[4][0][0].unsqueeze(0), mnist_datamodule.mnist_val[4][0][1].unsqueeze(0))\n",
    "\n",
    "# Reconstruct the sample using the VAE model\n",
    "reconstructed_sample = vae_model.generate(mnist_sample)\n",
    "\n",
    "# Display the original and reconstructed samples\n",
    "plt.figure()\n",
    "imshow(mnist_sample[0][0], title=\"Original Sample\")\n",
    "plt.figure()\n",
    "imshow(reconstructed_sample[0], title=\"Reconstructed Sample\")\n",
    "\n",
    "# Generate new images from the VAE model\n",
    "num_samples = 5\n",
    "generated_samples = vae_model.sample(num_samples=num_samples, current_device=vae_model.device)\n",
    "\n",
    "# Display the generated samples\n",
    "for i in range(num_samples):\n",
    "    plt.figure()\n",
    "    imshow(generated_samples[i], title=f\"Generated Sample {i + 1}\")"
   ]
  },
  {
   "cell_type": "code",
   "execution_count": null,
   "metadata": {},
   "outputs": [],
   "source": [
    "break"
   ]
  },
  {
   "cell_type": "code",
   "execution_count": null,
   "metadata": {},
   "outputs": [],
   "source": [
    "def imshow(tensor, title=None):\n",
    "    tensor = tensor.detach().cpu()\n",
    "    img = torchvision.transforms.ToPILImage()(tensor)\n",
    "    plt.imshow(img)\n",
    "    if title is not None:\n",
    "        plt.title(title)\n",
    "    plt.pause(0.001)  # Pause a bit so that plots are updated\n",
    "\n",
    "# Load the trained VAE model\n",
    "vae = VanillaVAE(in_channels=in_channels, latent_dim=latent_dim)\n",
    "vae_model = VAEModel(vae)\n",
    "vae_model.load_state_dict(torch.load(\"vae_mnist.pth\"))\n",
    "vae_model.eval()\n",
    "\n",
    "# Load a sample from the MNIST dataset\n",
    "mnist_sample = mnist_datamodule.mnist_val[0][0].unsqueeze(0)\n",
    "\n",
    "# Reconstruct the sample using the VAE model\n",
    "reconstructed_sample = vae_model.generate(mnist_sample)\n",
    "\n",
    "# Display the original and reconstructed samples\n",
    "plt.figure()\n",
    "imshow(mnist_sample[0], title=\"Original Sample\")\n",
    "plt.figure()\n",
    "imshow(reconstructed_sample[0], title=\"Reconstructed Sample\")\n",
    "\n",
    "# Generate new images from the VAE model\n",
    "num_samples = 5\n",
    "generated_samples = vae_model.sample(num_samples=num_samples, current_device=vae_model.device)\n",
    "\n",
    "# Display the generated samples\n",
    "for i in range(num_samples):\n",
    "    plt.figure()\n",
    "    imshow(generated_samples[i], title=f\"Generated Sample {i + 1}\")"
   ]
  }
 ],
 "metadata": {
  "kernelspec": {
   "display_name": "mlo",
   "language": "python",
   "name": "python3"
  },
  "language_info": {
   "codemirror_mode": {
    "name": "ipython",
    "version": 3
   },
   "file_extension": ".py",
   "mimetype": "text/x-python",
   "name": "python",
   "nbconvert_exporter": "python",
   "pygments_lexer": "ipython3",
   "version": "3.10.6"
  },
  "orig_nbformat": 4
 },
 "nbformat": 4,
 "nbformat_minor": 2
}
